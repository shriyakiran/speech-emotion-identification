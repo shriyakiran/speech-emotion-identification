{
  "cells": [
    {
      "cell_type": "code",
      "execution_count": null,
      "metadata": {
        "colab": {
          "base_uri": "https://localhost:8080/"
        },
        "id": "3iGdZdTtd-7N",
        "outputId": "9bdbf926-9580-4201-868d-f212875e7f4e"
      },
      "outputs": [
        {
          "name": "stdout",
          "output_type": "stream",
          "text": [
            "Mounted at /content/drive\n"
          ]
        }
      ],
      "source": [
        "from google.colab import drive\n",
        "drive.mount('/content/drive')"
      ]
    },
    {
      "cell_type": "code",
      "execution_count": null,
      "metadata": {
        "colab": {
          "base_uri": "https://localhost:8080/"
        },
        "id": "srXXxHrkeJUF",
        "outputId": "a6dcdea8-5d20-4327-af27-cc81a6355fce"
      },
      "outputs": [
        {
          "name": "stdout",
          "output_type": "stream",
          "text": [
            "Requirement already satisfied: librosa in /usr/local/lib/python3.10/dist-packages (0.10.1)\n",
            "Requirement already satisfied: audioread>=2.1.9 in /usr/local/lib/python3.10/dist-packages (from librosa) (3.0.1)\n",
            "Requirement already satisfied: numpy!=1.22.0,!=1.22.1,!=1.22.2,>=1.20.3 in /usr/local/lib/python3.10/dist-packages (from librosa) (1.23.5)\n",
            "Requirement already satisfied: scipy>=1.2.0 in /usr/local/lib/python3.10/dist-packages (from librosa) (1.11.4)\n",
            "Requirement already satisfied: scikit-learn>=0.20.0 in /usr/local/lib/python3.10/dist-packages (from librosa) (1.2.2)\n",
            "Requirement already satisfied: joblib>=0.14 in /usr/local/lib/python3.10/dist-packages (from librosa) (1.3.2)\n",
            "Requirement already satisfied: decorator>=4.3.0 in /usr/local/lib/python3.10/dist-packages (from librosa) (4.4.2)\n",
            "Requirement already satisfied: numba>=0.51.0 in /usr/local/lib/python3.10/dist-packages (from librosa) (0.58.1)\n",
            "Requirement already satisfied: soundfile>=0.12.1 in /usr/local/lib/python3.10/dist-packages (from librosa) (0.12.1)\n",
            "Requirement already satisfied: pooch>=1.0 in /usr/local/lib/python3.10/dist-packages (from librosa) (1.8.0)\n",
            "Requirement already satisfied: soxr>=0.3.2 in /usr/local/lib/python3.10/dist-packages (from librosa) (0.3.7)\n",
            "Requirement already satisfied: typing-extensions>=4.1.1 in /usr/local/lib/python3.10/dist-packages (from librosa) (4.9.0)\n",
            "Requirement already satisfied: lazy-loader>=0.1 in /usr/local/lib/python3.10/dist-packages (from librosa) (0.3)\n",
            "Requirement already satisfied: msgpack>=1.0 in /usr/local/lib/python3.10/dist-packages (from librosa) (1.0.7)\n",
            "Requirement already satisfied: llvmlite<0.42,>=0.41.0dev0 in /usr/local/lib/python3.10/dist-packages (from numba>=0.51.0->librosa) (0.41.1)\n",
            "Requirement already satisfied: platformdirs>=2.5.0 in /usr/local/lib/python3.10/dist-packages (from pooch>=1.0->librosa) (4.2.0)\n",
            "Requirement already satisfied: packaging>=20.0 in /usr/local/lib/python3.10/dist-packages (from pooch>=1.0->librosa) (23.2)\n",
            "Requirement already satisfied: requests>=2.19.0 in /usr/local/lib/python3.10/dist-packages (from pooch>=1.0->librosa) (2.31.0)\n",
            "Requirement already satisfied: threadpoolctl>=2.0.0 in /usr/local/lib/python3.10/dist-packages (from scikit-learn>=0.20.0->librosa) (3.2.0)\n",
            "Requirement already satisfied: cffi>=1.0 in /usr/local/lib/python3.10/dist-packages (from soundfile>=0.12.1->librosa) (1.16.0)\n",
            "Requirement already satisfied: pycparser in /usr/local/lib/python3.10/dist-packages (from cffi>=1.0->soundfile>=0.12.1->librosa) (2.21)\n",
            "Requirement already satisfied: charset-normalizer<4,>=2 in /usr/local/lib/python3.10/dist-packages (from requests>=2.19.0->pooch>=1.0->librosa) (3.3.2)\n",
            "Requirement already satisfied: idna<4,>=2.5 in /usr/local/lib/python3.10/dist-packages (from requests>=2.19.0->pooch>=1.0->librosa) (3.6)\n",
            "Requirement already satisfied: urllib3<3,>=1.21.1 in /usr/local/lib/python3.10/dist-packages (from requests>=2.19.0->pooch>=1.0->librosa) (2.0.7)\n",
            "Requirement already satisfied: certifi>=2017.4.17 in /usr/local/lib/python3.10/dist-packages (from requests>=2.19.0->pooch>=1.0->librosa) (2024.2.2)\n"
          ]
        }
      ],
      "source": [
        "!pip install librosa"
      ]
    },
    {
      "cell_type": "code",
      "execution_count": null,
      "metadata": {
        "colab": {
          "base_uri": "https://localhost:8080/"
        },
        "id": "KQg88TallTun",
        "outputId": "96160069-c773-4ba0-8f64-0ac51c55c16b"
      },
      "outputs": [
        {
          "name": "stdout",
          "output_type": "stream",
          "text": [
            "Requirement already satisfied: soundfile in /usr/local/lib/python3.10/dist-packages (0.12.1)\n",
            "Requirement already satisfied: cffi>=1.0 in /usr/local/lib/python3.10/dist-packages (from soundfile) (1.16.0)\n",
            "Requirement already satisfied: pycparser in /usr/local/lib/python3.10/dist-packages (from cffi>=1.0->soundfile) (2.21)\n"
          ]
        }
      ],
      "source": [
        "!pip install soundfile\n"
      ]
    },
    {
      "cell_type": "code",
      "execution_count": null,
      "metadata": {
        "id": "X08e3j0BeZhu"
      },
      "outputs": [],
      "source": [
        "import os\n",
        "import librosa\n",
        "import numpy as np\n",
        "\n"
      ]
    },
    {
      "cell_type": "code",
      "execution_count": null,
      "metadata": {
        "id": "NqhaZNEBew4z"
      },
      "outputs": [],
      "source": []
    },
    {
      "cell_type": "code",
      "execution_count": null,
      "metadata": {
        "colab": {
          "base_uri": "https://localhost:8080/"
        },
        "id": "07jyNdBNe7ri",
        "outputId": "1b30c6e2-9659-496d-b248-41a40fc612bc"
      },
      "outputs": [
        {
          "name": "stdout",
          "output_type": "stream",
          "text": [
            "                                              file_path  emotion\n",
            "6305  /content/drive/MyDrive/NLP/iiitproject/disgust...  disgust\n",
            "6306  /content/drive/MyDrive/NLP/iiitproject/disgust...  disgust\n",
            "6307  /content/drive/MyDrive/NLP/iiitproject/disgust...  disgust\n",
            "6308  /content/drive/MyDrive/NLP/iiitproject/disgust...  disgust\n",
            "6309  /content/drive/MyDrive/NLP/iiitproject/disgust...  disgust\n",
            "6310  /content/drive/MyDrive/NLP/iiitproject/disgust...  disgust\n",
            "6311  /content/drive/MyDrive/NLP/iiitproject/disgust...  disgust\n",
            "6312  /content/drive/MyDrive/NLP/iiitproject/disgust...  disgust\n",
            "6313  /content/drive/MyDrive/NLP/iiitproject/disgust...  disgust\n",
            "6314  /content/drive/MyDrive/NLP/iiitproject/disgust...  disgust\n",
            "6315  /content/drive/MyDrive/NLP/iiitproject/disgust...  disgust\n",
            "6316  /content/drive/MyDrive/NLP/iiitproject/disgust...  disgust\n",
            "6317  /content/drive/MyDrive/NLP/iiitproject/disgust...  disgust\n",
            "6318  /content/drive/MyDrive/NLP/iiitproject/disgust...  disgust\n",
            "6319  /content/drive/MyDrive/NLP/iiitproject/disgust...  disgust\n",
            "6320  /content/drive/MyDrive/NLP/iiitproject/disgust...  disgust\n",
            "6321  /content/drive/MyDrive/NLP/iiitproject/disgust...  disgust\n",
            "6322  /content/drive/MyDrive/NLP/iiitproject/disgust...  disgust\n",
            "6323  /content/drive/MyDrive/NLP/iiitproject/disgust...  disgust\n",
            "6324  /content/drive/MyDrive/NLP/iiitproject/disgust...  disgust\n",
            "6325  /content/drive/MyDrive/NLP/iiitproject/disgust...  disgust\n",
            "6326  /content/drive/MyDrive/NLP/iiitproject/disgust...  disgust\n",
            "6327  /content/drive/MyDrive/NLP/iiitproject/disgust...  disgust\n",
            "6328  /content/drive/MyDrive/NLP/iiitproject/disgust...  disgust\n",
            "6329  /content/drive/MyDrive/NLP/iiitproject/disgust...  disgust\n",
            "6330  /content/drive/MyDrive/NLP/iiitproject/disgust...  disgust\n",
            "6331  /content/drive/MyDrive/NLP/iiitproject/disgust...  disgust\n",
            "6332  /content/drive/MyDrive/NLP/iiitproject/disgust...  disgust\n",
            "6333  /content/drive/MyDrive/NLP/iiitproject/disgust...  disgust\n",
            "6334  /content/drive/MyDrive/NLP/iiitproject/disgust...  disgust\n",
            "6335  /content/drive/MyDrive/NLP/iiitproject/disgust...  disgust\n",
            "6336  /content/drive/MyDrive/NLP/iiitproject/disgust...  disgust\n",
            "6337  /content/drive/MyDrive/NLP/iiitproject/disgust...  disgust\n",
            "6338  /content/drive/MyDrive/NLP/iiitproject/disgust...  disgust\n",
            "6339  /content/drive/MyDrive/NLP/iiitproject/disgust...  disgust\n",
            "6340  /content/drive/MyDrive/NLP/iiitproject/disgust...  disgust\n",
            "6341  /content/drive/MyDrive/NLP/iiitproject/disgust...  disgust\n",
            "6342  /content/drive/MyDrive/NLP/iiitproject/disgust...  disgust\n",
            "6343  /content/drive/MyDrive/NLP/iiitproject/disgust...  disgust\n",
            "6344  /content/drive/MyDrive/NLP/iiitproject/disgust...  disgust\n",
            "6345  /content/drive/MyDrive/NLP/iiitproject/disgust...  disgust\n",
            "6346  /content/drive/MyDrive/NLP/iiitproject/disgust...  disgust\n",
            "6347  /content/drive/MyDrive/NLP/iiitproject/disgust...  disgust\n",
            "6348  /content/drive/MyDrive/NLP/iiitproject/disgust...  disgust\n",
            "6349  /content/drive/MyDrive/NLP/iiitproject/disgust...  disgust\n",
            "6350  /content/drive/MyDrive/NLP/iiitproject/disgust...  disgust\n",
            "6351  /content/drive/MyDrive/NLP/iiitproject/disgust...  disgust\n",
            "6352  /content/drive/MyDrive/NLP/iiitproject/disgust...  disgust\n",
            "6353  /content/drive/MyDrive/NLP/iiitproject/disgust...  disgust\n",
            "6354  /content/drive/MyDrive/NLP/iiitproject/disgust...  disgust\n"
          ]
        }
      ],
      "source": [
        "import os\n",
        "import pandas as pd\n",
        "\n",
        "def read_emotion_dataset(dataset_folder):\n",
        "    data = {'file_path': [], 'emotion': []}\n",
        "\n",
        "    for emotion in os.listdir(dataset_folder):\n",
        "        emotion_folder = os.path.join(dataset_folder, emotion)\n",
        "\n",
        "        if os.path.isdir(emotion_folder):\n",
        "\n",
        "            for file_name in os.listdir(emotion_folder):\n",
        "                file_path = os.path.join(emotion_folder, file_name)\n",
        "\n",
        "                if os.path.isfile(file_path):\n",
        "\n",
        "                    data['file_path'].append(file_path)\n",
        "                    data['emotion'].append(emotion)\n",
        "\n",
        "    emotion_dataset = pd.DataFrame(data)\n",
        "    return emotion_dataset\n",
        "\n",
        "dataset_folder = \"/content/drive/MyDrive/NLP/iiitproject\"\n",
        "emotion_dataset = read_emotion_dataset(dataset_folder)\n",
        "\n",
        "print(emotion_dataset.tail(50))\n"
      ]
    },
    {
      "cell_type": "code",
      "execution_count": null,
      "metadata": {
        "colab": {
          "base_uri": "https://localhost:8080/"
        },
        "id": "Pqw_nkYfoVUj",
        "outputId": "f3d4213c-d58b-42ca-e995-6a1c86383ad0"
      },
      "outputs": [
        {
          "name": "stdout",
          "output_type": "stream",
          "text": [
            "Requirement already satisfied: soundfile in /usr/local/lib/python3.10/dist-packages (0.12.1)\n",
            "Collecting sounddevice\n",
            "  Downloading sounddevice-0.4.6-py3-none-any.whl (31 kB)\n",
            "Requirement already satisfied: cffi>=1.0 in /usr/local/lib/python3.10/dist-packages (from soundfile) (1.16.0)\n",
            "Requirement already satisfied: pycparser in /usr/local/lib/python3.10/dist-packages (from cffi>=1.0->soundfile) (2.21)\n",
            "Installing collected packages: sounddevice\n",
            "Successfully installed sounddevice-0.4.6\n"
          ]
        }
      ],
      "source": [
        "!pip install soundfile sounddevice\n"
      ]
    },
    {
      "cell_type": "code",
      "execution_count": null,
      "metadata": {
        "id": "2AB4psCcsOdL"
      },
      "outputs": [],
      "source": [
        "import pandas as pd\n",
        "from sklearn.model_selection import train_test_split\n",
        "from sklearn.preprocessing import LabelEncoder, StandardScaler\n",
        "from sklearn.neural_network import MLPClassifier\n",
        "from sklearn.metrics import accuracy_score\n",
        "emotion_df=emotion_dataset"
      ]
    },
    {
      "cell_type": "code",
      "execution_count": null,
      "metadata": {
        "colab": {
          "base_uri": "https://localhost:8080/"
        },
        "id": "c2PgYOdbsbOy",
        "outputId": "139b8f82-d232-4234-a1f5-808461e23b70"
      },
      "outputs": [
        {
          "name": "stdout",
          "output_type": "stream",
          "text": [
            "Requirement already satisfied: librosa in /usr/local/lib/python3.10/dist-packages (0.10.1)\n",
            "Requirement already satisfied: audioread>=2.1.9 in /usr/local/lib/python3.10/dist-packages (from librosa) (3.0.1)\n",
            "Requirement already satisfied: numpy!=1.22.0,!=1.22.1,!=1.22.2,>=1.20.3 in /usr/local/lib/python3.10/dist-packages (from librosa) (1.23.5)\n",
            "Requirement already satisfied: scipy>=1.2.0 in /usr/local/lib/python3.10/dist-packages (from librosa) (1.11.4)\n",
            "Requirement already satisfied: scikit-learn>=0.20.0 in /usr/local/lib/python3.10/dist-packages (from librosa) (1.2.2)\n",
            "Requirement already satisfied: joblib>=0.14 in /usr/local/lib/python3.10/dist-packages (from librosa) (1.3.2)\n",
            "Requirement already satisfied: decorator>=4.3.0 in /usr/local/lib/python3.10/dist-packages (from librosa) (4.4.2)\n",
            "Requirement already satisfied: numba>=0.51.0 in /usr/local/lib/python3.10/dist-packages (from librosa) (0.58.1)\n",
            "Requirement already satisfied: soundfile>=0.12.1 in /usr/local/lib/python3.10/dist-packages (from librosa) (0.12.1)\n",
            "Requirement already satisfied: pooch>=1.0 in /usr/local/lib/python3.10/dist-packages (from librosa) (1.8.0)\n",
            "Requirement already satisfied: soxr>=0.3.2 in /usr/local/lib/python3.10/dist-packages (from librosa) (0.3.7)\n",
            "Requirement already satisfied: typing-extensions>=4.1.1 in /usr/local/lib/python3.10/dist-packages (from librosa) (4.9.0)\n",
            "Requirement already satisfied: lazy-loader>=0.1 in /usr/local/lib/python3.10/dist-packages (from librosa) (0.3)\n",
            "Requirement already satisfied: msgpack>=1.0 in /usr/local/lib/python3.10/dist-packages (from librosa) (1.0.7)\n",
            "Requirement already satisfied: llvmlite<0.42,>=0.41.0dev0 in /usr/local/lib/python3.10/dist-packages (from numba>=0.51.0->librosa) (0.41.1)\n",
            "Requirement already satisfied: platformdirs>=2.5.0 in /usr/local/lib/python3.10/dist-packages (from pooch>=1.0->librosa) (4.2.0)\n",
            "Requirement already satisfied: packaging>=20.0 in /usr/local/lib/python3.10/dist-packages (from pooch>=1.0->librosa) (23.2)\n",
            "Requirement already satisfied: requests>=2.19.0 in /usr/local/lib/python3.10/dist-packages (from pooch>=1.0->librosa) (2.31.0)\n",
            "Requirement already satisfied: threadpoolctl>=2.0.0 in /usr/local/lib/python3.10/dist-packages (from scikit-learn>=0.20.0->librosa) (3.2.0)\n",
            "Requirement already satisfied: cffi>=1.0 in /usr/local/lib/python3.10/dist-packages (from soundfile>=0.12.1->librosa) (1.16.0)\n",
            "Requirement already satisfied: pycparser in /usr/local/lib/python3.10/dist-packages (from cffi>=1.0->soundfile>=0.12.1->librosa) (2.21)\n",
            "Requirement already satisfied: charset-normalizer<4,>=2 in /usr/local/lib/python3.10/dist-packages (from requests>=2.19.0->pooch>=1.0->librosa) (3.3.2)\n",
            "Requirement already satisfied: idna<4,>=2.5 in /usr/local/lib/python3.10/dist-packages (from requests>=2.19.0->pooch>=1.0->librosa) (3.6)\n",
            "Requirement already satisfied: urllib3<3,>=1.21.1 in /usr/local/lib/python3.10/dist-packages (from requests>=2.19.0->pooch>=1.0->librosa) (2.0.7)\n",
            "Requirement already satisfied: certifi>=2017.4.17 in /usr/local/lib/python3.10/dist-packages (from requests>=2.19.0->pooch>=1.0->librosa) (2024.2.2)\n",
            "Collecting resampy\n",
            "  Downloading resampy-0.4.2-py3-none-any.whl (3.1 MB)\n",
            "\u001b[2K     \u001b[90m━━━━━━━━━━━━━━━━━━━━━━━━━━━━━━━━━━━━━━━━\u001b[0m \u001b[32m3.1/3.1 MB\u001b[0m \u001b[31m14.6 MB/s\u001b[0m eta \u001b[36m0:00:00\u001b[0m\n",
            "\u001b[?25hRequirement already satisfied: numpy>=1.17 in /usr/local/lib/python3.10/dist-packages (from resampy) (1.23.5)\n",
            "Requirement already satisfied: numba>=0.53 in /usr/local/lib/python3.10/dist-packages (from resampy) (0.58.1)\n",
            "Requirement already satisfied: llvmlite<0.42,>=0.41.0dev0 in /usr/local/lib/python3.10/dist-packages (from numba>=0.53->resampy) (0.41.1)\n",
            "Installing collected packages: resampy\n",
            "Successfully installed resampy-0.4.2\n"
          ]
        }
      ],
      "source": [
        "!pip install librosa\n",
        "!pip install resampy"
      ]
    },
    {
      "cell_type": "code",
      "execution_count": null,
      "metadata": {
        "id": "DCGATj87hkD6"
      },
      "outputs": [],
      "source": [
        "import librosa\n",
        "import numpy as np\n",
        "from sklearn.preprocessing import LabelEncoder\n",
        "\n",
        "def extract_features(file_path):\n",
        "    audio, _ = librosa.load(file_path, sr=None)\n",
        "    mfccs = np.mean(librosa.feature.mfcc(y=audio, sr=_ , n_mfcc=13), axis=1)\n",
        "    return mfccs\n",
        "X = [extract_features(file_path) for file_path in emotion_df['file_path']]\n",
        "X = np.vstack(X)\n",
        "y = emotion_df['emotion']\n",
        "\n",
        "le = LabelEncoder()\n",
        "y = le.fit_transform(y)\n"
      ]
    },
    {
      "cell_type": "code",
      "execution_count": null,
      "metadata": {
        "id": "kAEu4-UXhtAS"
      },
      "outputs": [],
      "source": [
        "X_train, X_test, y_train, y_test = train_test_split(X, y, test_size=0.33, random_state=42)\n",
        "le = LabelEncoder()\n",
        "y_train_encoded = le.fit_transform(y_train)"
      ]
    },
    {
      "cell_type": "code",
      "execution_count": null,
      "metadata": {
        "colab": {
          "base_uri": "https://localhost:8080/"
        },
        "id": "dAjHJ-noki1w",
        "outputId": "018dc4a7-2099-4d5e-bcd2-4d850e6f7c19"
      },
      "outputs": [
        {
          "name": "stdout",
          "output_type": "stream",
          "text": [
            "(4257, 13)\n",
            "(4257,)\n",
            "(2098, 13)\n",
            "(2098,)\n"
          ]
        }
      ],
      "source": [
        "print(X_train.shape)\n",
        "print(y_train.shape)\n",
        "print(X_test.shape)\n",
        "print(y_test.shape)"
      ]
    },
    {
      "cell_type": "code",
      "execution_count": null,
      "metadata": {
        "id": "oM3RjYkaktBt"
      },
      "outputs": [],
      "source": [
        "scaler = StandardScaler()\n",
        "X_train = scaler.fit_transform(X_train)\n",
        "X_test = scaler.transform(X_test)\n"
      ]
    },
    {
      "cell_type": "code",
      "execution_count": null,
      "metadata": {
        "colab": {
          "base_uri": "https://localhost:8080/",
          "height": 74
        },
        "id": "J3EkYQSrk3EZ",
        "outputId": "c7c9e57b-dd3a-4fee-f061-21f35b84b0a5"
      },
      "outputs": [
        {
          "data": {
            "text/html": [
              "<style>#sk-container-id-1 {color: black;background-color: white;}#sk-container-id-1 pre{padding: 0;}#sk-container-id-1 div.sk-toggleable {background-color: white;}#sk-container-id-1 label.sk-toggleable__label {cursor: pointer;display: block;width: 100%;margin-bottom: 0;padding: 0.3em;box-sizing: border-box;text-align: center;}#sk-container-id-1 label.sk-toggleable__label-arrow:before {content: \"▸\";float: left;margin-right: 0.25em;color: #696969;}#sk-container-id-1 label.sk-toggleable__label-arrow:hover:before {color: black;}#sk-container-id-1 div.sk-estimator:hover label.sk-toggleable__label-arrow:before {color: black;}#sk-container-id-1 div.sk-toggleable__content {max-height: 0;max-width: 0;overflow: hidden;text-align: left;background-color: #f0f8ff;}#sk-container-id-1 div.sk-toggleable__content pre {margin: 0.2em;color: black;border-radius: 0.25em;background-color: #f0f8ff;}#sk-container-id-1 input.sk-toggleable__control:checked~div.sk-toggleable__content {max-height: 200px;max-width: 100%;overflow: auto;}#sk-container-id-1 input.sk-toggleable__control:checked~label.sk-toggleable__label-arrow:before {content: \"▾\";}#sk-container-id-1 div.sk-estimator input.sk-toggleable__control:checked~label.sk-toggleable__label {background-color: #d4ebff;}#sk-container-id-1 div.sk-label input.sk-toggleable__control:checked~label.sk-toggleable__label {background-color: #d4ebff;}#sk-container-id-1 input.sk-hidden--visually {border: 0;clip: rect(1px 1px 1px 1px);clip: rect(1px, 1px, 1px, 1px);height: 1px;margin: -1px;overflow: hidden;padding: 0;position: absolute;width: 1px;}#sk-container-id-1 div.sk-estimator {font-family: monospace;background-color: #f0f8ff;border: 1px dotted black;border-radius: 0.25em;box-sizing: border-box;margin-bottom: 0.5em;}#sk-container-id-1 div.sk-estimator:hover {background-color: #d4ebff;}#sk-container-id-1 div.sk-parallel-item::after {content: \"\";width: 100%;border-bottom: 1px solid gray;flex-grow: 1;}#sk-container-id-1 div.sk-label:hover label.sk-toggleable__label {background-color: #d4ebff;}#sk-container-id-1 div.sk-serial::before {content: \"\";position: absolute;border-left: 1px solid gray;box-sizing: border-box;top: 0;bottom: 0;left: 50%;z-index: 0;}#sk-container-id-1 div.sk-serial {display: flex;flex-direction: column;align-items: center;background-color: white;padding-right: 0.2em;padding-left: 0.2em;position: relative;}#sk-container-id-1 div.sk-item {position: relative;z-index: 1;}#sk-container-id-1 div.sk-parallel {display: flex;align-items: stretch;justify-content: center;background-color: white;position: relative;}#sk-container-id-1 div.sk-item::before, #sk-container-id-1 div.sk-parallel-item::before {content: \"\";position: absolute;border-left: 1px solid gray;box-sizing: border-box;top: 0;bottom: 0;left: 50%;z-index: -1;}#sk-container-id-1 div.sk-parallel-item {display: flex;flex-direction: column;z-index: 1;position: relative;background-color: white;}#sk-container-id-1 div.sk-parallel-item:first-child::after {align-self: flex-end;width: 50%;}#sk-container-id-1 div.sk-parallel-item:last-child::after {align-self: flex-start;width: 50%;}#sk-container-id-1 div.sk-parallel-item:only-child::after {width: 0;}#sk-container-id-1 div.sk-dashed-wrapped {border: 1px dashed gray;margin: 0 0.4em 0.5em 0.4em;box-sizing: border-box;padding-bottom: 0.4em;background-color: white;}#sk-container-id-1 div.sk-label label {font-family: monospace;font-weight: bold;display: inline-block;line-height: 1.2em;}#sk-container-id-1 div.sk-label-container {text-align: center;}#sk-container-id-1 div.sk-container {/* jupyter's `normalize.less` sets `[hidden] { display: none; }` but bootstrap.min.css set `[hidden] { display: none !important; }` so we also need the `!important` here to be able to override the default hidden behavior on the sphinx rendered scikit-learn.org. See: https://github.com/scikit-learn/scikit-learn/issues/21755 */display: inline-block !important;position: relative;}#sk-container-id-1 div.sk-text-repr-fallback {display: none;}</style><div id=\"sk-container-id-1\" class=\"sk-top-container\"><div class=\"sk-text-repr-fallback\"><pre>MLPClassifier(hidden_layer_sizes=(50, 50), max_iter=500, random_state=42)</pre><b>In a Jupyter environment, please rerun this cell to show the HTML representation or trust the notebook. <br />On GitHub, the HTML representation is unable to render, please try loading this page with nbviewer.org.</b></div><div class=\"sk-container\" hidden><div class=\"sk-item\"><div class=\"sk-estimator sk-toggleable\"><input class=\"sk-toggleable__control sk-hidden--visually\" id=\"sk-estimator-id-1\" type=\"checkbox\" checked><label for=\"sk-estimator-id-1\" class=\"sk-toggleable__label sk-toggleable__label-arrow\">MLPClassifier</label><div class=\"sk-toggleable__content\"><pre>MLPClassifier(hidden_layer_sizes=(50, 50), max_iter=500, random_state=42)</pre></div></div></div></div></div>"
            ],
            "text/plain": [
              "MLPClassifier(hidden_layer_sizes=(50, 50), max_iter=500, random_state=42)"
            ]
          },
          "execution_count": 11,
          "metadata": {},
          "output_type": "execute_result"
        }
      ],
      "source": [
        "from sklearn.neural_network import MLPClassifier\n",
        "from sklearn.metrics import accuracy_score\n",
        "mlp = MLPClassifier(hidden_layer_sizes=(50, 50), activation='relu', solver='adam',\n",
        "                    alpha=0.0001, batch_size='auto', learning_rate='constant',\n",
        "                    learning_rate_init=0.001, max_iter=500, random_state=42)\n",
        "mlp.fit(X_train, y_train)"
      ]
    },
    {
      "cell_type": "code",
      "execution_count": null,
      "metadata": {
        "colab": {
          "base_uri": "https://localhost:8080/"
        },
        "id": "y-ZSWWvbk4w8",
        "outputId": "f1551802-4a64-4e45-fd91-30c9a287da87"
      },
      "outputs": [
        {
          "name": "stdout",
          "output_type": "stream",
          "text": [
            "Accuracy: 43.57%\n"
          ]
        }
      ],
      "source": [
        "y_pred = mlp.predict(X_test)\n",
        "accuracy = accuracy_score(y_test, y_pred)\n",
        "print(f\"Accuracy: {accuracy*100:.2f}%\")\n"
      ]
    },
    {
      "cell_type": "code",
      "execution_count": null,
      "metadata": {
        "id": "g4MDPUGek7ND"
      },
      "outputs": [],
      "source": [
        "import pickle\n",
        "train_test_data = {\n",
        "    'X_train': X_train,\n",
        "    'X_test': X_test,\n",
        "    'y_train': y_train,\n",
        "    'y_test': y_test\n",
        "}\n",
        "\n",
        "# Save the data to a pickle file\n",
        "with open('train_test_data.pkl', 'wb') as file:\n",
        "    pickle.dump(train_test_data, file)\n",
        "with open('your_label_encoder_file.pkl', 'wb') as label_encoder_file:\n",
        "    pickle.dump(le, label_encoder_file)\n"
      ]
    },
    {
      "cell_type": "code",
      "execution_count": null,
      "metadata": {
        "colab": {
          "base_uri": "https://localhost:8080/"
        },
        "id": "d7mDU2samy6a",
        "outputId": "9b747e37-904d-4255-ee8d-298f5253f2dd"
      },
      "outputs": [
        {
          "name": "stdout",
          "output_type": "stream",
          "text": [
            "dict_keys(['X_train', 'X_test', 'y_train', 'y_test'])\n",
            "[[-5.3521094e+02  1.1412729e+02  1.9520229e+01  1.5574841e+01\n",
            "  -7.6813488e+00  2.5339651e+01 -2.0562569e+01  1.9316656e+01\n",
            "  -1.3230029e+01  7.6450366e-01 -7.4098911e+00 -3.2325075e+00\n",
            "   1.1329950e-01]]\n",
            "[1]\n",
            "1\n",
            "Predicted Emotion: 1 (disgust)\n"
          ]
        }
      ],
      "source": [
        "import librosa\n",
        "import numpy as np\n",
        "import pickle\n",
        "from sklearn.preprocessing import LabelEncoder\n",
        "from sklearn.neural_network import MLPClassifier\n",
        "\n",
        "with open('train_test_data.pkl', 'rb') as model_file:\n",
        "    model_dict = pickle.load(model_file)\n",
        "\n",
        "print(model_dict.keys())\n",
        "\n",
        "\n",
        "emotion_labels = ['anger', 'disgust', 'fear','sad','surprise']  # Replace with your actual emotion labels\n",
        "\n",
        "def extract_features(file_path):\n",
        "    audio, sr = librosa.load(file_path, sr=None, res_type='kaiser_fast')\n",
        "    mfccs = np.mean(librosa.feature.mfcc(y=audio, sr=sr, n_mfcc=13), axis=1)\n",
        "    return mfccs\n",
        "\n",
        "new_audio_file_path = '/content/drive/MyDrive/NLP/hello.mp3'\n",
        "\n",
        "new_audio_features = extract_features(new_audio_file_path)\n",
        "new_audio_features = new_audio_features.reshape(1, -1)\n",
        "print(new_audio_features)\n",
        "emotion_pred = mlp.predict(new_audio_features)\n",
        "print(emotion_pred)\n",
        "predicted_emotion_label = le.inverse_transform(emotion_pred)[0]\n",
        "print(predicted_emotion_label)\n",
        "predicted_emotion_name = emotion_labels[predicted_emotion_label]\n",
        "\n",
        "print(f\"Predicted Emotion: {predicted_emotion_label} ({predicted_emotion_name})\")\n"
      ]
    },
    {
      "cell_type": "code",
      "execution_count": null,
      "metadata": {
        "colab": {
          "base_uri": "https://localhost:8080/"
        },
        "id": "WUNKaqskrLwA",
        "outputId": "9f4ad699-71a0-42bc-a6a2-fa11c0468a22"
      },
      "outputs": [
        {
          "name": "stdout",
          "output_type": "stream",
          "text": [
            "Keys in the dictionary: dict_keys(['X_train', 'X_test', 'y_train', 'y_test'])\n"
          ]
        }
      ],
      "source": [
        "print(\"Keys in the dictionary:\", model_dict.keys())"
      ]
    },
    {
      "cell_type": "code",
      "execution_count": null,
      "metadata": {
        "colab": {
          "base_uri": "https://localhost:8080/"
        },
        "id": "I4c92BXt3OVj",
        "outputId": "55efac22-c8fe-4665-ce80-36984a2ce17c"
      },
      "outputs": [
        {
          "name": "stdout",
          "output_type": "stream",
          "text": [
            "Epoch 1/50\n",
            "67/67 [==============================] - 3s 11ms/step - loss: 1.9545 - accuracy: 0.3531 - val_loss: 1.3951 - val_accuracy: 0.4290\n",
            "Epoch 2/50\n",
            "67/67 [==============================] - 0s 5ms/step - loss: 1.6706 - accuracy: 0.3963 - val_loss: 1.3831 - val_accuracy: 0.3851\n",
            "Epoch 3/50\n",
            "67/67 [==============================] - 1s 8ms/step - loss: 1.4702 - accuracy: 0.4299 - val_loss: 1.3495 - val_accuracy: 0.4199\n",
            "Epoch 4/50\n",
            "67/67 [==============================] - 1s 10ms/step - loss: 1.4112 - accuracy: 0.4461 - val_loss: 1.2836 - val_accuracy: 0.4647\n",
            "Epoch 5/50\n",
            "67/67 [==============================] - 1s 8ms/step - loss: 1.3612 - accuracy: 0.4489 - val_loss: 1.2674 - val_accuracy: 0.4757\n",
            "Epoch 6/50\n",
            "67/67 [==============================] - 0s 5ms/step - loss: 1.3177 - accuracy: 0.4517 - val_loss: 1.2585 - val_accuracy: 0.4762\n",
            "Epoch 7/50\n",
            "67/67 [==============================] - 0s 5ms/step - loss: 1.3091 - accuracy: 0.4496 - val_loss: 1.2260 - val_accuracy: 0.4781\n",
            "Epoch 8/50\n",
            "67/67 [==============================] - 0s 5ms/step - loss: 1.2594 - accuracy: 0.4700 - val_loss: 1.2292 - val_accuracy: 0.4847\n",
            "Epoch 9/50\n",
            "67/67 [==============================] - 0s 6ms/step - loss: 1.2537 - accuracy: 0.4858 - val_loss: 1.2216 - val_accuracy: 0.4828\n",
            "Epoch 10/50\n",
            "67/67 [==============================] - 0s 5ms/step - loss: 1.2284 - accuracy: 0.4891 - val_loss: 1.2227 - val_accuracy: 0.4809\n",
            "Epoch 11/50\n",
            "67/67 [==============================] - 0s 5ms/step - loss: 1.2211 - accuracy: 0.4975 - val_loss: 1.2180 - val_accuracy: 0.4757\n",
            "Epoch 12/50\n",
            "67/67 [==============================] - 0s 5ms/step - loss: 1.2040 - accuracy: 0.5015 - val_loss: 1.2163 - val_accuracy: 0.4757\n",
            "Epoch 13/50\n",
            "67/67 [==============================] - 0s 6ms/step - loss: 1.2085 - accuracy: 0.5051 - val_loss: 1.2138 - val_accuracy: 0.4704\n",
            "Epoch 14/50\n",
            "67/67 [==============================] - 0s 5ms/step - loss: 1.2020 - accuracy: 0.5022 - val_loss: 1.2126 - val_accuracy: 0.4809\n",
            "Epoch 15/50\n",
            "67/67 [==============================] - 0s 5ms/step - loss: 1.1954 - accuracy: 0.5034 - val_loss: 1.2067 - val_accuracy: 0.4757\n",
            "Epoch 16/50\n",
            "67/67 [==============================] - 0s 5ms/step - loss: 1.1998 - accuracy: 0.4959 - val_loss: 1.2069 - val_accuracy: 0.4819\n",
            "Epoch 17/50\n",
            "67/67 [==============================] - 0s 5ms/step - loss: 1.1917 - accuracy: 0.5067 - val_loss: 1.2071 - val_accuracy: 0.4800\n",
            "Epoch 18/50\n",
            "67/67 [==============================] - 0s 6ms/step - loss: 1.1800 - accuracy: 0.5043 - val_loss: 1.2113 - val_accuracy: 0.4814\n",
            "Epoch 19/50\n",
            "67/67 [==============================] - 0s 5ms/step - loss: 1.1759 - accuracy: 0.5018 - val_loss: 1.2113 - val_accuracy: 0.4824\n",
            "Epoch 20/50\n",
            "67/67 [==============================] - 0s 5ms/step - loss: 1.1805 - accuracy: 0.5168 - val_loss: 1.2084 - val_accuracy: 0.4852\n",
            "66/66 [==============================] - 0s 1ms/step - loss: 1.2067 - accuracy: 0.4757\n",
            "Test accuracy: 0.47569113969802856\n"
          ]
        },
        {
          "name": "stderr",
          "output_type": "stream",
          "text": [
            "/usr/local/lib/python3.10/dist-packages/keras/src/engine/training.py:3103: UserWarning: You are saving your model as an HDF5 file via `model.save()`. This file format is considered legacy. We recommend using instead the native Keras format, e.g. `model.save('my_model.keras')`.\n",
            "  saving_api.save_model(\n"
          ]
        }
      ],
      "source": [
        "from tensorflow.keras.callbacks import EarlyStopping\n",
        "from keras.models import Sequential\n",
        "from keras.layers import Dense, BatchNormalization,Dropout\n",
        "# Define the model architecture\n",
        "model = Sequential([\n",
        "    Dense(512, activation='relu', input_shape=(X_train.shape[1],)),\n",
        "    BatchNormalization(),\n",
        "    Dropout(0.5),\n",
        "    Dense(256, activation='relu'),\n",
        "    BatchNormalization(),\n",
        "    Dropout(0.5),\n",
        "    Dense(len(emotion_labels), activation='softmax')\n",
        "])\n",
        "\n",
        "# Compile the model\n",
        "model.compile(optimizer='adam', loss='sparse_categorical_crossentropy', metrics=['accuracy'])\n",
        "\n",
        "# Define early stopping criteria\n",
        "early_stopping = EarlyStopping(monitor='val_loss', patience=5, restore_best_weights=True)\n",
        "\n",
        "# Train the model\n",
        "history = model.fit(X_train, y_train, epochs=50, batch_size=64,\n",
        "                    validation_data=(X_test, y_test),\n",
        "                    callbacks=[early_stopping])\n",
        "\n",
        "# Evaluate the model\n",
        "test_loss, test_acc = model.evaluate(X_test, y_test)\n",
        "print(f'Test accuracy: {test_acc}')\n",
        "\n",
        "# Save the model\n",
        "model.save('emotion_model_updated.h5')\n"
      ]
    }
  ],
  "metadata": {
    "colab": {
      "provenance": []
    },
    "kernelspec": {
      "display_name": "Python 3",
      "name": "python3"
    },
    "language_info": {
      "name": "python"
    }
  },
  "nbformat": 4,
  "nbformat_minor": 0
}
