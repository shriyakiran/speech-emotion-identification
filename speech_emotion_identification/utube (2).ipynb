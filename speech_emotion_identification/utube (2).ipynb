{
  "metadata": {
    "kernelspec": {
      "language": "python",
      "display_name": "Python 3",
      "name": "python3"
    },
    "language_info": {
      "name": "python",
      "version": "3.10.13",
      "mimetype": "text/x-python",
      "codemirror_mode": {
        "name": "ipython",
        "version": 3
      },
      "pygments_lexer": "ipython3",
      "nbconvert_exporter": "python",
      "file_extension": ".py"
    },
    "kaggle": {
      "accelerator": "none",
      "dataSources": [
        {
          "sourceId": 639622,
          "sourceType": "datasetVersion",
          "datasetId": 316368
        }
      ],
      "dockerImageVersionId": 30646,
      "isInternetEnabled": true,
      "language": "python",
      "sourceType": "notebook",
      "isGpuEnabled": false
    },
    "colab": {
      "provenance": []
    }
  },
  "nbformat_minor": 0,
  "nbformat": 4,
  "cells": [
    {
      "source": [
        "\n",
        "# IMPORTANT: RUN THIS CELL IN ORDER TO IMPORT YOUR KAGGLE DATA SOURCES\n",
        "# TO THE CORRECT LOCATION (/kaggle/input) IN YOUR NOTEBOOK,\n",
        "# THEN FEEL FREE TO DELETE THIS CELL.\n",
        "# NOTE: THIS NOTEBOOK ENVIRONMENT DIFFERS FROM KAGGLE'S PYTHON\n",
        "# ENVIRONMENT SO THERE MAY BE MISSING LIBRARIES USED BY YOUR\n",
        "# NOTEBOOK.\n",
        "\n",
        "import os\n",
        "import sys\n",
        "from tempfile import NamedTemporaryFile\n",
        "from urllib.request import urlopen\n",
        "from urllib.parse import unquote, urlparse\n",
        "from urllib.error import HTTPError\n",
        "from zipfile import ZipFile\n",
        "import tarfile\n",
        "import shutil\n",
        "\n",
        "CHUNK_SIZE = 40960\n",
        "DATA_SOURCE_MAPPING = 'toronto-emotional-speech-set-tess:https%3A%2F%2Fstorage.googleapis.com%2Fkaggle-data-sets%2F316368%2F639622%2Fbundle%2Farchive.zip%3FX-Goog-Algorithm%3DGOOG4-RSA-SHA256%26X-Goog-Credential%3Dgcp-kaggle-com%2540kaggle-161607.iam.gserviceaccount.com%252F20240211%252Fauto%252Fstorage%252Fgoog4_request%26X-Goog-Date%3D20240211T135708Z%26X-Goog-Expires%3D259200%26X-Goog-SignedHeaders%3Dhost%26X-Goog-Signature%3D58f3bd0fcf445af597f523ff364d3937566c37803e62c3c93c0aa12a86969a8fe72de6c33300f90fb912a08b59bc0bb0ce6e9a4267452bd5153c2614e3870af46c052367b5807d1942752aee88f4f42f92f928ae8821cf40bb109837ebe7586c95b92635495710c7672440737b0fdb4f32a3dd82f02dcb65a7a517b4bc6f0e35902abe6d87c09f516616cb2aa83e01ed4b656a29b076255eba618017097dfd28e9b06a1371ced4ebf46965951b47e84ee090d4ec51b154f5d2cf3d51a7bca9fcec224038c420db409dc16ce9d4f8b1fda18053a7aee223c6c9bb7a958bc5f140aea6ce97f139862cb84bee9e9f9da31d50281565fe333c56c8ded4d66ddea97f'\n",
        "\n",
        "KAGGLE_INPUT_PATH='/kaggle/input'\n",
        "KAGGLE_WORKING_PATH='/kaggle/working'\n",
        "KAGGLE_SYMLINK='kaggle'\n",
        "\n",
        "!umount /kaggle/input/ 2> /dev/null\n",
        "shutil.rmtree('/kaggle/input', ignore_errors=True)\n",
        "os.makedirs(KAGGLE_INPUT_PATH, 0o777, exist_ok=True)\n",
        "os.makedirs(KAGGLE_WORKING_PATH, 0o777, exist_ok=True)\n",
        "\n",
        "try:\n",
        "  os.symlink(KAGGLE_INPUT_PATH, os.path.join(\"..\", 'input'), target_is_directory=True)\n",
        "except FileExistsError:\n",
        "  pass\n",
        "try:\n",
        "  os.symlink(KAGGLE_WORKING_PATH, os.path.join(\"..\", 'working'), target_is_directory=True)\n",
        "except FileExistsError:\n",
        "  pass\n",
        "\n",
        "for data_source_mapping in DATA_SOURCE_MAPPING.split(','):\n",
        "    directory, download_url_encoded = data_source_mapping.split(':')\n",
        "    download_url = unquote(download_url_encoded)\n",
        "    filename = urlparse(download_url).path\n",
        "    destination_path = os.path.join(KAGGLE_INPUT_PATH, directory)\n",
        "    try:\n",
        "        with urlopen(download_url) as fileres, NamedTemporaryFile() as tfile:\n",
        "            total_length = fileres.headers['content-length']\n",
        "            print(f'Downloading {directory}, {total_length} bytes compressed')\n",
        "            dl = 0\n",
        "            data = fileres.read(CHUNK_SIZE)\n",
        "            while len(data) > 0:\n",
        "                dl += len(data)\n",
        "                tfile.write(data)\n",
        "                done = int(50 * dl / int(total_length))\n",
        "                sys.stdout.write(f\"\\r[{'=' * done}{' ' * (50-done)}] {dl} bytes downloaded\")\n",
        "                sys.stdout.flush()\n",
        "                data = fileres.read(CHUNK_SIZE)\n",
        "            if filename.endswith('.zip'):\n",
        "              with ZipFile(tfile) as zfile:\n",
        "                zfile.extractall(destination_path)\n",
        "            else:\n",
        "              with tarfile.open(tfile.name) as tarfile:\n",
        "                tarfile.extractall(destination_path)\n",
        "            print(f'\\nDownloaded and uncompressed: {directory}')\n",
        "    except HTTPError as e:\n",
        "        print(f'Failed to load (likely expired) {download_url} to path {destination_path}')\n",
        "        continue\n",
        "    except OSError as e:\n",
        "        print(f'Failed to load {download_url} to path {destination_path}')\n",
        "        continue\n",
        "\n",
        "print('Data source import complete.')\n"
      ],
      "metadata": {
        "id": "SK9rKLlfdSxR",
        "colab": {
          "base_uri": "https://localhost:8080/"
        },
        "outputId": "36893056-49fe-4a75-f98d-f567db4586a1"
      },
      "cell_type": "code",
      "outputs": [
        {
          "output_type": "stream",
          "name": "stdout",
          "text": [
            "Downloading toronto-emotional-speech-set-tess, 448572034 bytes compressed\n",
            "[==================================================] 448572034 bytes downloaded\n",
            "Downloaded and uncompressed: toronto-emotional-speech-set-tess\n",
            "Data source import complete.\n"
          ]
        }
      ],
      "execution_count": 2
    },
    {
      "cell_type": "code",
      "source": [
        "import pandas as pd\n",
        "import numpy as np\n",
        "import os\n",
        "import seaborn as sns\n",
        "import matplotlib.pyplot as plt\n",
        "import librosa\n",
        "import librosa.display\n",
        "from IPython.display import Audio\n",
        "import warnings\n",
        "warnings.filterwarnings('ignore')"
      ],
      "metadata": {
        "_uuid": "8f2839f25d086af736a60e9eeb907d3b93b6e0e5",
        "_cell_guid": "b1076dfc-b9ad-4769-8c92-a6c4dae69d19",
        "execution": {
          "iopub.status.busy": "2024-02-11T13:18:36.529962Z",
          "iopub.execute_input": "2024-02-11T13:18:36.530613Z",
          "iopub.status.idle": "2024-02-11T13:18:36.538102Z",
          "shell.execute_reply.started": "2024-02-11T13:18:36.530568Z",
          "shell.execute_reply": "2024-02-11T13:18:36.536222Z"
        },
        "trusted": true,
        "id": "hgSrgPaSdSxU"
      },
      "execution_count": 1,
      "outputs": []
    },
    {
      "cell_type": "code",
      "source": [
        "paths = []\n",
        "labels = []\n",
        "for dirname, _, filenames in os.walk('/kaggle/input'):\n",
        "    for filename in filenames:\n",
        "        paths.append(os.path.join(dirname, filename))\n",
        "        label = filename.split('_')[-1]\n",
        "        label = label.split('.')[0]\n",
        "        labels.append(label.lower())\n",
        "print('Dataset is Loaded')"
      ],
      "metadata": {
        "execution": {
          "iopub.status.busy": "2024-02-11T13:25:05.028339Z",
          "iopub.execute_input": "2024-02-11T13:25:05.029092Z",
          "iopub.status.idle": "2024-02-11T13:25:06.308418Z",
          "shell.execute_reply.started": "2024-02-11T13:25:05.02906Z",
          "shell.execute_reply": "2024-02-11T13:25:06.307024Z"
        },
        "trusted": true,
        "id": "ERAOhJ9YdSxU",
        "outputId": "949b7263-7232-40b5-d95f-b216bc10170a",
        "colab": {
          "base_uri": "https://localhost:8080/"
        }
      },
      "execution_count": 3,
      "outputs": [
        {
          "output_type": "stream",
          "name": "stdout",
          "text": [
            "Dataset is Loaded\n"
          ]
        }
      ]
    },
    {
      "cell_type": "code",
      "source": [
        "paths[:5]\n"
      ],
      "metadata": {
        "execution": {
          "iopub.status.busy": "2024-02-11T13:25:46.62317Z",
          "iopub.execute_input": "2024-02-11T13:25:46.623889Z",
          "iopub.status.idle": "2024-02-11T13:25:46.631056Z",
          "shell.execute_reply.started": "2024-02-11T13:25:46.623841Z",
          "shell.execute_reply": "2024-02-11T13:25:46.630079Z"
        },
        "trusted": true,
        "id": "iBgqrlebdSxV",
        "outputId": "07093b1a-8311-47ce-ef6d-fc3f4b000c5e",
        "colab": {
          "base_uri": "https://localhost:8080/"
        }
      },
      "execution_count": 4,
      "outputs": [
        {
          "output_type": "execute_result",
          "data": {
            "text/plain": [
              "['/kaggle/input/toronto-emotional-speech-set-tess/tess toronto emotional speech set data/TESS Toronto emotional speech set data/OAF_Pleasant_surprise/OAF_neat_ps.wav',\n",
              " '/kaggle/input/toronto-emotional-speech-set-tess/tess toronto emotional speech set data/TESS Toronto emotional speech set data/OAF_Pleasant_surprise/OAF_life_ps.wav',\n",
              " '/kaggle/input/toronto-emotional-speech-set-tess/tess toronto emotional speech set data/TESS Toronto emotional speech set data/OAF_Pleasant_surprise/OAF_hurl_ps.wav',\n",
              " '/kaggle/input/toronto-emotional-speech-set-tess/tess toronto emotional speech set data/TESS Toronto emotional speech set data/OAF_Pleasant_surprise/OAF_burn_ps.wav',\n",
              " '/kaggle/input/toronto-emotional-speech-set-tess/tess toronto emotional speech set data/TESS Toronto emotional speech set data/OAF_Pleasant_surprise/OAF_knock_ps.wav']"
            ]
          },
          "metadata": {},
          "execution_count": 4
        }
      ]
    },
    {
      "cell_type": "code",
      "source": [
        "labels[:5]"
      ],
      "metadata": {
        "execution": {
          "iopub.status.busy": "2024-02-11T13:25:45.054675Z",
          "iopub.execute_input": "2024-02-11T13:25:45.055061Z",
          "iopub.status.idle": "2024-02-11T13:25:45.061388Z",
          "shell.execute_reply.started": "2024-02-11T13:25:45.055032Z",
          "shell.execute_reply": "2024-02-11T13:25:45.060581Z"
        },
        "trusted": true,
        "id": "wN2fA71WdSxV",
        "outputId": "ec822b43-b0ac-4eea-abcf-52df16d6666a",
        "colab": {
          "base_uri": "https://localhost:8080/"
        }
      },
      "execution_count": 5,
      "outputs": [
        {
          "output_type": "execute_result",
          "data": {
            "text/plain": [
              "['ps', 'ps', 'ps', 'ps', 'ps']"
            ]
          },
          "metadata": {},
          "execution_count": 5
        }
      ]
    },
    {
      "cell_type": "code",
      "source": [
        "df = pd.DataFrame()\n",
        "df['speech'] = paths\n",
        "df['label'] = labels\n",
        "df.head()"
      ],
      "metadata": {
        "execution": {
          "iopub.status.busy": "2024-02-11T13:25:49.833852Z",
          "iopub.execute_input": "2024-02-11T13:25:49.834873Z",
          "iopub.status.idle": "2024-02-11T13:25:49.848092Z",
          "shell.execute_reply.started": "2024-02-11T13:25:49.834836Z",
          "shell.execute_reply": "2024-02-11T13:25:49.846924Z"
        },
        "trusted": true,
        "id": "SeHxA2zvdSxW",
        "outputId": "d48db2d8-68c5-49bf-d49f-edb20ae364e1",
        "colab": {
          "base_uri": "https://localhost:8080/",
          "height": 206
        }
      },
      "execution_count": 6,
      "outputs": [
        {
          "output_type": "execute_result",
          "data": {
            "text/plain": [
              "                                              speech label\n",
              "0  /kaggle/input/toronto-emotional-speech-set-tes...    ps\n",
              "1  /kaggle/input/toronto-emotional-speech-set-tes...    ps\n",
              "2  /kaggle/input/toronto-emotional-speech-set-tes...    ps\n",
              "3  /kaggle/input/toronto-emotional-speech-set-tes...    ps\n",
              "4  /kaggle/input/toronto-emotional-speech-set-tes...    ps"
            ],
            "text/html": [
              "\n",
              "  <div id=\"df-699e59b5-062a-4b46-a2ce-8c32955f362c\" class=\"colab-df-container\">\n",
              "    <div>\n",
              "<style scoped>\n",
              "    .dataframe tbody tr th:only-of-type {\n",
              "        vertical-align: middle;\n",
              "    }\n",
              "\n",
              "    .dataframe tbody tr th {\n",
              "        vertical-align: top;\n",
              "    }\n",
              "\n",
              "    .dataframe thead th {\n",
              "        text-align: right;\n",
              "    }\n",
              "</style>\n",
              "<table border=\"1\" class=\"dataframe\">\n",
              "  <thead>\n",
              "    <tr style=\"text-align: right;\">\n",
              "      <th></th>\n",
              "      <th>speech</th>\n",
              "      <th>label</th>\n",
              "    </tr>\n",
              "  </thead>\n",
              "  <tbody>\n",
              "    <tr>\n",
              "      <th>0</th>\n",
              "      <td>/kaggle/input/toronto-emotional-speech-set-tes...</td>\n",
              "      <td>ps</td>\n",
              "    </tr>\n",
              "    <tr>\n",
              "      <th>1</th>\n",
              "      <td>/kaggle/input/toronto-emotional-speech-set-tes...</td>\n",
              "      <td>ps</td>\n",
              "    </tr>\n",
              "    <tr>\n",
              "      <th>2</th>\n",
              "      <td>/kaggle/input/toronto-emotional-speech-set-tes...</td>\n",
              "      <td>ps</td>\n",
              "    </tr>\n",
              "    <tr>\n",
              "      <th>3</th>\n",
              "      <td>/kaggle/input/toronto-emotional-speech-set-tes...</td>\n",
              "      <td>ps</td>\n",
              "    </tr>\n",
              "    <tr>\n",
              "      <th>4</th>\n",
              "      <td>/kaggle/input/toronto-emotional-speech-set-tes...</td>\n",
              "      <td>ps</td>\n",
              "    </tr>\n",
              "  </tbody>\n",
              "</table>\n",
              "</div>\n",
              "    <div class=\"colab-df-buttons\">\n",
              "\n",
              "  <div class=\"colab-df-container\">\n",
              "    <button class=\"colab-df-convert\" onclick=\"convertToInteractive('df-699e59b5-062a-4b46-a2ce-8c32955f362c')\"\n",
              "            title=\"Convert this dataframe to an interactive table.\"\n",
              "            style=\"display:none;\">\n",
              "\n",
              "  <svg xmlns=\"http://www.w3.org/2000/svg\" height=\"24px\" viewBox=\"0 -960 960 960\">\n",
              "    <path d=\"M120-120v-720h720v720H120Zm60-500h600v-160H180v160Zm220 220h160v-160H400v160Zm0 220h160v-160H400v160ZM180-400h160v-160H180v160Zm440 0h160v-160H620v160ZM180-180h160v-160H180v160Zm440 0h160v-160H620v160Z\"/>\n",
              "  </svg>\n",
              "    </button>\n",
              "\n",
              "  <style>\n",
              "    .colab-df-container {\n",
              "      display:flex;\n",
              "      gap: 12px;\n",
              "    }\n",
              "\n",
              "    .colab-df-convert {\n",
              "      background-color: #E8F0FE;\n",
              "      border: none;\n",
              "      border-radius: 50%;\n",
              "      cursor: pointer;\n",
              "      display: none;\n",
              "      fill: #1967D2;\n",
              "      height: 32px;\n",
              "      padding: 0 0 0 0;\n",
              "      width: 32px;\n",
              "    }\n",
              "\n",
              "    .colab-df-convert:hover {\n",
              "      background-color: #E2EBFA;\n",
              "      box-shadow: 0px 1px 2px rgba(60, 64, 67, 0.3), 0px 1px 3px 1px rgba(60, 64, 67, 0.15);\n",
              "      fill: #174EA6;\n",
              "    }\n",
              "\n",
              "    .colab-df-buttons div {\n",
              "      margin-bottom: 4px;\n",
              "    }\n",
              "\n",
              "    [theme=dark] .colab-df-convert {\n",
              "      background-color: #3B4455;\n",
              "      fill: #D2E3FC;\n",
              "    }\n",
              "\n",
              "    [theme=dark] .colab-df-convert:hover {\n",
              "      background-color: #434B5C;\n",
              "      box-shadow: 0px 1px 3px 1px rgba(0, 0, 0, 0.15);\n",
              "      filter: drop-shadow(0px 1px 2px rgba(0, 0, 0, 0.3));\n",
              "      fill: #FFFFFF;\n",
              "    }\n",
              "  </style>\n",
              "\n",
              "    <script>\n",
              "      const buttonEl =\n",
              "        document.querySelector('#df-699e59b5-062a-4b46-a2ce-8c32955f362c button.colab-df-convert');\n",
              "      buttonEl.style.display =\n",
              "        google.colab.kernel.accessAllowed ? 'block' : 'none';\n",
              "\n",
              "      async function convertToInteractive(key) {\n",
              "        const element = document.querySelector('#df-699e59b5-062a-4b46-a2ce-8c32955f362c');\n",
              "        const dataTable =\n",
              "          await google.colab.kernel.invokeFunction('convertToInteractive',\n",
              "                                                    [key], {});\n",
              "        if (!dataTable) return;\n",
              "\n",
              "        const docLinkHtml = 'Like what you see? Visit the ' +\n",
              "          '<a target=\"_blank\" href=https://colab.research.google.com/notebooks/data_table.ipynb>data table notebook</a>'\n",
              "          + ' to learn more about interactive tables.';\n",
              "        element.innerHTML = '';\n",
              "        dataTable['output_type'] = 'display_data';\n",
              "        await google.colab.output.renderOutput(dataTable, element);\n",
              "        const docLink = document.createElement('div');\n",
              "        docLink.innerHTML = docLinkHtml;\n",
              "        element.appendChild(docLink);\n",
              "      }\n",
              "    </script>\n",
              "  </div>\n",
              "\n",
              "\n",
              "<div id=\"df-3d69cbf1-85f9-41e1-9a29-23a9e2bcd71d\">\n",
              "  <button class=\"colab-df-quickchart\" onclick=\"quickchart('df-3d69cbf1-85f9-41e1-9a29-23a9e2bcd71d')\"\n",
              "            title=\"Suggest charts\"\n",
              "            style=\"display:none;\">\n",
              "\n",
              "<svg xmlns=\"http://www.w3.org/2000/svg\" height=\"24px\"viewBox=\"0 0 24 24\"\n",
              "     width=\"24px\">\n",
              "    <g>\n",
              "        <path d=\"M19 3H5c-1.1 0-2 .9-2 2v14c0 1.1.9 2 2 2h14c1.1 0 2-.9 2-2V5c0-1.1-.9-2-2-2zM9 17H7v-7h2v7zm4 0h-2V7h2v10zm4 0h-2v-4h2v4z\"/>\n",
              "    </g>\n",
              "</svg>\n",
              "  </button>\n",
              "\n",
              "<style>\n",
              "  .colab-df-quickchart {\n",
              "      --bg-color: #E8F0FE;\n",
              "      --fill-color: #1967D2;\n",
              "      --hover-bg-color: #E2EBFA;\n",
              "      --hover-fill-color: #174EA6;\n",
              "      --disabled-fill-color: #AAA;\n",
              "      --disabled-bg-color: #DDD;\n",
              "  }\n",
              "\n",
              "  [theme=dark] .colab-df-quickchart {\n",
              "      --bg-color: #3B4455;\n",
              "      --fill-color: #D2E3FC;\n",
              "      --hover-bg-color: #434B5C;\n",
              "      --hover-fill-color: #FFFFFF;\n",
              "      --disabled-bg-color: #3B4455;\n",
              "      --disabled-fill-color: #666;\n",
              "  }\n",
              "\n",
              "  .colab-df-quickchart {\n",
              "    background-color: var(--bg-color);\n",
              "    border: none;\n",
              "    border-radius: 50%;\n",
              "    cursor: pointer;\n",
              "    display: none;\n",
              "    fill: var(--fill-color);\n",
              "    height: 32px;\n",
              "    padding: 0;\n",
              "    width: 32px;\n",
              "  }\n",
              "\n",
              "  .colab-df-quickchart:hover {\n",
              "    background-color: var(--hover-bg-color);\n",
              "    box-shadow: 0 1px 2px rgba(60, 64, 67, 0.3), 0 1px 3px 1px rgba(60, 64, 67, 0.15);\n",
              "    fill: var(--button-hover-fill-color);\n",
              "  }\n",
              "\n",
              "  .colab-df-quickchart-complete:disabled,\n",
              "  .colab-df-quickchart-complete:disabled:hover {\n",
              "    background-color: var(--disabled-bg-color);\n",
              "    fill: var(--disabled-fill-color);\n",
              "    box-shadow: none;\n",
              "  }\n",
              "\n",
              "  .colab-df-spinner {\n",
              "    border: 2px solid var(--fill-color);\n",
              "    border-color: transparent;\n",
              "    border-bottom-color: var(--fill-color);\n",
              "    animation:\n",
              "      spin 1s steps(1) infinite;\n",
              "  }\n",
              "\n",
              "  @keyframes spin {\n",
              "    0% {\n",
              "      border-color: transparent;\n",
              "      border-bottom-color: var(--fill-color);\n",
              "      border-left-color: var(--fill-color);\n",
              "    }\n",
              "    20% {\n",
              "      border-color: transparent;\n",
              "      border-left-color: var(--fill-color);\n",
              "      border-top-color: var(--fill-color);\n",
              "    }\n",
              "    30% {\n",
              "      border-color: transparent;\n",
              "      border-left-color: var(--fill-color);\n",
              "      border-top-color: var(--fill-color);\n",
              "      border-right-color: var(--fill-color);\n",
              "    }\n",
              "    40% {\n",
              "      border-color: transparent;\n",
              "      border-right-color: var(--fill-color);\n",
              "      border-top-color: var(--fill-color);\n",
              "    }\n",
              "    60% {\n",
              "      border-color: transparent;\n",
              "      border-right-color: var(--fill-color);\n",
              "    }\n",
              "    80% {\n",
              "      border-color: transparent;\n",
              "      border-right-color: var(--fill-color);\n",
              "      border-bottom-color: var(--fill-color);\n",
              "    }\n",
              "    90% {\n",
              "      border-color: transparent;\n",
              "      border-bottom-color: var(--fill-color);\n",
              "    }\n",
              "  }\n",
              "</style>\n",
              "\n",
              "  <script>\n",
              "    async function quickchart(key) {\n",
              "      const quickchartButtonEl =\n",
              "        document.querySelector('#' + key + ' button');\n",
              "      quickchartButtonEl.disabled = true;  // To prevent multiple clicks.\n",
              "      quickchartButtonEl.classList.add('colab-df-spinner');\n",
              "      try {\n",
              "        const charts = await google.colab.kernel.invokeFunction(\n",
              "            'suggestCharts', [key], {});\n",
              "      } catch (error) {\n",
              "        console.error('Error during call to suggestCharts:', error);\n",
              "      }\n",
              "      quickchartButtonEl.classList.remove('colab-df-spinner');\n",
              "      quickchartButtonEl.classList.add('colab-df-quickchart-complete');\n",
              "    }\n",
              "    (() => {\n",
              "      let quickchartButtonEl =\n",
              "        document.querySelector('#df-3d69cbf1-85f9-41e1-9a29-23a9e2bcd71d button');\n",
              "      quickchartButtonEl.style.display =\n",
              "        google.colab.kernel.accessAllowed ? 'block' : 'none';\n",
              "    })();\n",
              "  </script>\n",
              "</div>\n",
              "\n",
              "    </div>\n",
              "  </div>\n"
            ]
          },
          "metadata": {},
          "execution_count": 6
        }
      ]
    },
    {
      "cell_type": "code",
      "source": [
        "df['label'].value_counts()"
      ],
      "metadata": {
        "execution": {
          "iopub.status.busy": "2024-02-11T13:25:51.746787Z",
          "iopub.execute_input": "2024-02-11T13:25:51.747184Z",
          "iopub.status.idle": "2024-02-11T13:25:51.756381Z",
          "shell.execute_reply.started": "2024-02-11T13:25:51.747148Z",
          "shell.execute_reply": "2024-02-11T13:25:51.755137Z"
        },
        "trusted": true,
        "id": "13V1l3oadSxW",
        "outputId": "a5c8dea4-0d0e-4512-e19a-3fdc5321b930",
        "colab": {
          "base_uri": "https://localhost:8080/"
        }
      },
      "execution_count": 7,
      "outputs": [
        {
          "output_type": "execute_result",
          "data": {
            "text/plain": [
              "ps         800\n",
              "neutral    800\n",
              "fear       800\n",
              "disgust    800\n",
              "sad        800\n",
              "angry      800\n",
              "happy      800\n",
              "Name: label, dtype: int64"
            ]
          },
          "metadata": {},
          "execution_count": 7
        }
      ]
    },
    {
      "cell_type": "code",
      "source": [
        "def extract_mfcc(filename):\n",
        "     y, sr = librosa.load(filename, duration=3, offset=0.5)\n",
        "     mfcc = np.mean(librosa.feature.mfcc(y=y, sr=sr, n_mfcc=40).T, axis=0)\n",
        "     return mfcc"
      ],
      "metadata": {
        "execution": {
          "iopub.status.busy": "2024-02-11T13:34:59.272142Z",
          "iopub.execute_input": "2024-02-11T13:34:59.272654Z",
          "iopub.status.idle": "2024-02-11T13:34:59.280269Z",
          "shell.execute_reply.started": "2024-02-11T13:34:59.272619Z",
          "shell.execute_reply": "2024-02-11T13:34:59.27808Z"
        },
        "trusted": true,
        "id": "JV0GplwIdSxW"
      },
      "execution_count": 8,
      "outputs": []
    },
    {
      "cell_type": "code",
      "source": [
        "extract_mfcc(df['speech'][0])"
      ],
      "metadata": {
        "execution": {
          "iopub.status.busy": "2024-02-11T13:35:07.96862Z",
          "iopub.execute_input": "2024-02-11T13:35:07.969093Z",
          "iopub.status.idle": "2024-02-11T13:35:09.296147Z",
          "shell.execute_reply.started": "2024-02-11T13:35:07.96906Z",
          "shell.execute_reply": "2024-02-11T13:35:09.294834Z"
        },
        "trusted": true,
        "id": "B4sZD8WtdSxW",
        "outputId": "5658b486-4d4e-436b-f3b8-e5ce9c422a89",
        "colab": {
          "base_uri": "https://localhost:8080/"
        }
      },
      "execution_count": 9,
      "outputs": [
        {
          "output_type": "execute_result",
          "data": {
            "text/plain": [
              "array([-4.51180786e+02,  1.02048294e+02,  2.69270630e+01,  1.22117739e+01,\n",
              "        1.72746944e+01, -8.62270737e+00, -4.74703074e+00,  3.06957936e+00,\n",
              "       -2.37280350e+01, -1.30311069e+01, -1.90544224e+01, -1.30710583e+01,\n",
              "       -6.85248804e+00, -2.14052558e+00, -1.17191696e+00, -5.47938943e-01,\n",
              "       -8.34716702e+00,  6.20912600e+00,  8.62692535e-01,  3.34856415e+00,\n",
              "        2.16456000e-02,  3.58268857e+00, -2.78831601e+00, -1.06497896e+00,\n",
              "        3.03637624e-01,  2.84512806e+00, -7.25878620e+00,  3.70610499e+00,\n",
              "       -4.54884005e+00,  3.24274254e+00, -3.99890447e+00, -3.41284943e+00,\n",
              "       -9.44613338e-01, -8.38181555e-01,  5.22176456e+00,  1.33904715e+01,\n",
              "        1.32900696e+01,  1.80151062e+01,  1.51833334e+01,  1.47473345e+01],\n",
              "      dtype=float32)"
            ]
          },
          "metadata": {},
          "execution_count": 9
        }
      ]
    },
    {
      "cell_type": "code",
      "source": [
        "X_mfcc = df['speech'].apply(lambda x: extract_mfcc(x))"
      ],
      "metadata": {
        "execution": {
          "iopub.status.busy": "2024-02-11T13:35:19.117908Z",
          "iopub.execute_input": "2024-02-11T13:35:19.118807Z",
          "iopub.status.idle": "2024-02-11T13:37:57.669398Z",
          "shell.execute_reply.started": "2024-02-11T13:35:19.11875Z",
          "shell.execute_reply": "2024-02-11T13:37:57.667819Z"
        },
        "trusted": true,
        "id": "TtzMZhkkdSxX"
      },
      "execution_count": 10,
      "outputs": []
    },
    {
      "cell_type": "code",
      "source": [
        "X = [x for x in X_mfcc]\n",
        "X = np.array(X)\n",
        "X.shape"
      ],
      "metadata": {
        "execution": {
          "iopub.status.busy": "2024-02-11T13:37:57.677084Z",
          "iopub.execute_input": "2024-02-11T13:37:57.68121Z",
          "iopub.status.idle": "2024-02-11T13:37:57.706782Z",
          "shell.execute_reply.started": "2024-02-11T13:37:57.681145Z",
          "shell.execute_reply": "2024-02-11T13:37:57.70538Z"
        },
        "trusted": true,
        "id": "RaReaZBIdSxX",
        "outputId": "56964528-ade5-4b91-c193-33ab508c2d88",
        "colab": {
          "base_uri": "https://localhost:8080/"
        }
      },
      "execution_count": 11,
      "outputs": [
        {
          "output_type": "execute_result",
          "data": {
            "text/plain": [
              "(5600, 40)"
            ]
          },
          "metadata": {},
          "execution_count": 11
        }
      ]
    },
    {
      "cell_type": "code",
      "source": [
        "X = np.expand_dims(X, -1)\n",
        "X.shape"
      ],
      "metadata": {
        "execution": {
          "iopub.status.busy": "2024-02-11T13:37:57.713725Z",
          "iopub.execute_input": "2024-02-11T13:37:57.717567Z",
          "iopub.status.idle": "2024-02-11T13:37:57.736623Z",
          "shell.execute_reply.started": "2024-02-11T13:37:57.717388Z",
          "shell.execute_reply": "2024-02-11T13:37:57.734259Z"
        },
        "trusted": true,
        "id": "OHLTtZG-dSxX",
        "outputId": "8ab9f827-6c57-4701-e061-1ad64f05dbad",
        "colab": {
          "base_uri": "https://localhost:8080/"
        }
      },
      "execution_count": 12,
      "outputs": [
        {
          "output_type": "execute_result",
          "data": {
            "text/plain": [
              "(5600, 40, 1)"
            ]
          },
          "metadata": {},
          "execution_count": 12
        }
      ]
    },
    {
      "cell_type": "code",
      "source": [
        "from sklearn.preprocessing import OneHotEncoder\n",
        "enc = OneHotEncoder()\n",
        "y = enc.fit_transform(df[['label']])\n",
        "y = y.toarray()\n",
        "y.shape"
      ],
      "metadata": {
        "execution": {
          "iopub.status.busy": "2024-02-11T13:37:57.745174Z",
          "iopub.execute_input": "2024-02-11T13:37:57.74883Z",
          "iopub.status.idle": "2024-02-11T13:37:57.840301Z",
          "shell.execute_reply.started": "2024-02-11T13:37:57.748762Z",
          "shell.execute_reply": "2024-02-11T13:37:57.839103Z"
        },
        "trusted": true,
        "id": "hEAMn3jxdSxX",
        "outputId": "edf0fb93-c02a-4bd7-9418-27c776ef056f",
        "colab": {
          "base_uri": "https://localhost:8080/"
        }
      },
      "execution_count": 13,
      "outputs": [
        {
          "output_type": "execute_result",
          "data": {
            "text/plain": [
              "(5600, 7)"
            ]
          },
          "metadata": {},
          "execution_count": 13
        }
      ]
    },
    {
      "cell_type": "code",
      "source": [
        "from keras.models import Sequential\n",
        "from keras.layers import Dense, LSTM, Dropout\n",
        "\n",
        "model = Sequential([\n",
        "    LSTM(256, return_sequences=False, input_shape=(40,1)),\n",
        "    Dropout(0.2),\n",
        "    Dense(128, activation='relu'),\n",
        "    Dropout(0.2),\n",
        "    Dense(64, activation='relu'),\n",
        "    Dropout(0.2),\n",
        "    Dense(7, activation='softmax')\n",
        "])\n",
        "\n",
        "model.compile(loss='categorical_crossentropy', optimizer='adam', metrics=['accuracy'])\n",
        "model.summary()\n"
      ],
      "metadata": {
        "execution": {
          "iopub.status.busy": "2024-02-11T13:38:20.950624Z",
          "iopub.execute_input": "2024-02-11T13:38:20.951071Z",
          "iopub.status.idle": "2024-02-11T13:38:36.389725Z",
          "shell.execute_reply.started": "2024-02-11T13:38:20.951041Z",
          "shell.execute_reply": "2024-02-11T13:38:36.388418Z"
        },
        "trusted": true,
        "id": "kPAKpb1DdSxX",
        "outputId": "5e683150-62d7-4c30-8bbe-71e146a68975",
        "colab": {
          "base_uri": "https://localhost:8080/"
        }
      },
      "execution_count": 14,
      "outputs": [
        {
          "output_type": "stream",
          "name": "stdout",
          "text": [
            "Model: \"sequential\"\n",
            "_________________________________________________________________\n",
            " Layer (type)                Output Shape              Param #   \n",
            "=================================================================\n",
            " lstm (LSTM)                 (None, 256)               264192    \n",
            "                                                                 \n",
            " dropout (Dropout)           (None, 256)               0         \n",
            "                                                                 \n",
            " dense (Dense)               (None, 128)               32896     \n",
            "                                                                 \n",
            " dropout_1 (Dropout)         (None, 128)               0         \n",
            "                                                                 \n",
            " dense_1 (Dense)             (None, 64)                8256      \n",
            "                                                                 \n",
            " dropout_2 (Dropout)         (None, 64)                0         \n",
            "                                                                 \n",
            " dense_2 (Dense)             (None, 7)                 455       \n",
            "                                                                 \n",
            "=================================================================\n",
            "Total params: 305799 (1.17 MB)\n",
            "Trainable params: 305799 (1.17 MB)\n",
            "Non-trainable params: 0 (0.00 Byte)\n",
            "_________________________________________________________________\n"
          ]
        }
      ]
    },
    {
      "cell_type": "code",
      "source": [
        "history = model.fit(X, y, validation_split=0.2, epochs=50, batch_size=64)\n"
      ],
      "metadata": {
        "execution": {
          "iopub.status.busy": "2024-02-11T13:39:07.98167Z",
          "iopub.execute_input": "2024-02-11T13:39:07.982051Z",
          "iopub.status.idle": "2024-02-11T13:45:34.466999Z",
          "shell.execute_reply.started": "2024-02-11T13:39:07.982025Z",
          "shell.execute_reply": "2024-02-11T13:45:34.465977Z"
        },
        "trusted": true,
        "id": "UmMkUXyydSxY",
        "outputId": "f2b00c36-45a2-43a4-e0b4-93e31ed7f7ae",
        "colab": {
          "base_uri": "https://localhost:8080/"
        }
      },
      "execution_count": 15,
      "outputs": [
        {
          "output_type": "stream",
          "name": "stdout",
          "text": [
            "Epoch 1/50\n",
            "70/70 [==============================] - 16s 188ms/step - loss: 0.8561 - accuracy: 0.6906 - val_loss: 0.8230 - val_accuracy: 0.7643\n",
            "Epoch 2/50\n",
            "70/70 [==============================] - 12s 174ms/step - loss: 0.2584 - accuracy: 0.9147 - val_loss: 0.2442 - val_accuracy: 0.9170\n",
            "Epoch 3/50\n",
            "70/70 [==============================] - 13s 183ms/step - loss: 0.1385 - accuracy: 0.9569 - val_loss: 0.3198 - val_accuracy: 0.8920\n",
            "Epoch 4/50\n",
            "70/70 [==============================] - 12s 177ms/step - loss: 0.1257 - accuracy: 0.9596 - val_loss: 0.2452 - val_accuracy: 0.9161\n",
            "Epoch 5/50\n",
            "70/70 [==============================] - 13s 185ms/step - loss: 0.0904 - accuracy: 0.9714 - val_loss: 0.2339 - val_accuracy: 0.9321\n",
            "Epoch 6/50\n",
            "70/70 [==============================] - 12s 175ms/step - loss: 0.1001 - accuracy: 0.9708 - val_loss: 0.1187 - val_accuracy: 0.9545\n",
            "Epoch 7/50\n",
            "70/70 [==============================] - 13s 183ms/step - loss: 0.0844 - accuracy: 0.9721 - val_loss: 0.0555 - val_accuracy: 0.9812\n",
            "Epoch 8/50\n",
            "70/70 [==============================] - 12s 178ms/step - loss: 0.0783 - accuracy: 0.9761 - val_loss: 0.0709 - val_accuracy: 0.9812\n",
            "Epoch 9/50\n",
            "70/70 [==============================] - 13s 189ms/step - loss: 0.0564 - accuracy: 0.9839 - val_loss: 0.1087 - val_accuracy: 0.9580\n",
            "Epoch 10/50\n",
            "70/70 [==============================] - 13s 183ms/step - loss: 0.0666 - accuracy: 0.9790 - val_loss: 0.1862 - val_accuracy: 0.9393\n",
            "Epoch 11/50\n",
            "70/70 [==============================] - 12s 178ms/step - loss: 0.0495 - accuracy: 0.9853 - val_loss: 0.0949 - val_accuracy: 0.9696\n",
            "Epoch 12/50\n",
            "70/70 [==============================] - 13s 181ms/step - loss: 0.0408 - accuracy: 0.9879 - val_loss: 0.0511 - val_accuracy: 0.9812\n",
            "Epoch 13/50\n",
            "70/70 [==============================] - 12s 174ms/step - loss: 0.0279 - accuracy: 0.9926 - val_loss: 0.0530 - val_accuracy: 0.9848\n",
            "Epoch 14/50\n",
            "70/70 [==============================] - 12s 177ms/step - loss: 0.0288 - accuracy: 0.9908 - val_loss: 0.0549 - val_accuracy: 0.9804\n",
            "Epoch 15/50\n",
            "70/70 [==============================] - 12s 175ms/step - loss: 0.0496 - accuracy: 0.9839 - val_loss: 0.1921 - val_accuracy: 0.9393\n",
            "Epoch 16/50\n",
            "70/70 [==============================] - 12s 175ms/step - loss: 0.0359 - accuracy: 0.9908 - val_loss: 0.0222 - val_accuracy: 0.9937\n",
            "Epoch 17/50\n",
            "70/70 [==============================] - 12s 175ms/step - loss: 0.0227 - accuracy: 0.9933 - val_loss: 0.0260 - val_accuracy: 0.9937\n",
            "Epoch 18/50\n",
            "70/70 [==============================] - 12s 174ms/step - loss: 0.0233 - accuracy: 0.9937 - val_loss: 0.0191 - val_accuracy: 0.9937\n",
            "Epoch 19/50\n",
            "70/70 [==============================] - 12s 177ms/step - loss: 0.0390 - accuracy: 0.9875 - val_loss: 0.1158 - val_accuracy: 0.9625\n",
            "Epoch 20/50\n",
            "70/70 [==============================] - 12s 174ms/step - loss: 0.0387 - accuracy: 0.9871 - val_loss: 0.0422 - val_accuracy: 0.9830\n",
            "Epoch 21/50\n",
            "70/70 [==============================] - 12s 166ms/step - loss: 0.0289 - accuracy: 0.9911 - val_loss: 0.0363 - val_accuracy: 0.9857\n",
            "Epoch 22/50\n",
            "70/70 [==============================] - 11s 158ms/step - loss: 0.0526 - accuracy: 0.9859 - val_loss: 0.1103 - val_accuracy: 0.9679\n",
            "Epoch 23/50\n",
            "70/70 [==============================] - 12s 166ms/step - loss: 0.0250 - accuracy: 0.9931 - val_loss: 0.0563 - val_accuracy: 0.9804\n",
            "Epoch 24/50\n",
            "70/70 [==============================] - 12s 170ms/step - loss: 0.0268 - accuracy: 0.9913 - val_loss: 0.0350 - val_accuracy: 0.9839\n",
            "Epoch 25/50\n",
            "70/70 [==============================] - 12s 169ms/step - loss: 0.0098 - accuracy: 0.9971 - val_loss: 0.0098 - val_accuracy: 0.9955\n",
            "Epoch 26/50\n",
            "70/70 [==============================] - 12s 170ms/step - loss: 0.0564 - accuracy: 0.9839 - val_loss: 0.0673 - val_accuracy: 0.9777\n",
            "Epoch 27/50\n",
            "70/70 [==============================] - 12s 175ms/step - loss: 0.0331 - accuracy: 0.9900 - val_loss: 0.0194 - val_accuracy: 0.9937\n",
            "Epoch 28/50\n",
            "70/70 [==============================] - 12s 169ms/step - loss: 0.0202 - accuracy: 0.9940 - val_loss: 0.0553 - val_accuracy: 0.9723\n",
            "Epoch 29/50\n",
            "70/70 [==============================] - 12s 172ms/step - loss: 0.0132 - accuracy: 0.9969 - val_loss: 0.0051 - val_accuracy: 0.9982\n",
            "Epoch 30/50\n",
            "70/70 [==============================] - 12s 175ms/step - loss: 0.0040 - accuracy: 0.9989 - val_loss: 0.0049 - val_accuracy: 0.9964\n",
            "Epoch 31/50\n",
            "70/70 [==============================] - 12s 174ms/step - loss: 0.0113 - accuracy: 0.9973 - val_loss: 0.0018 - val_accuracy: 1.0000\n",
            "Epoch 32/50\n",
            "70/70 [==============================] - 13s 179ms/step - loss: 0.0016 - accuracy: 1.0000 - val_loss: 9.0503e-04 - val_accuracy: 1.0000\n",
            "Epoch 33/50\n",
            "70/70 [==============================] - 12s 172ms/step - loss: 0.0375 - accuracy: 0.9920 - val_loss: 0.0696 - val_accuracy: 0.9750\n",
            "Epoch 34/50\n",
            "70/70 [==============================] - 13s 182ms/step - loss: 0.0201 - accuracy: 0.9940 - val_loss: 0.0261 - val_accuracy: 0.9893\n",
            "Epoch 35/50\n",
            "70/70 [==============================] - 12s 177ms/step - loss: 0.0172 - accuracy: 0.9953 - val_loss: 0.0211 - val_accuracy: 0.9929\n",
            "Epoch 36/50\n",
            "70/70 [==============================] - 12s 176ms/step - loss: 0.0281 - accuracy: 0.9935 - val_loss: 0.0064 - val_accuracy: 0.9982\n",
            "Epoch 37/50\n",
            "70/70 [==============================] - 12s 172ms/step - loss: 0.0102 - accuracy: 0.9971 - val_loss: 0.0076 - val_accuracy: 0.9973\n",
            "Epoch 38/50\n",
            "70/70 [==============================] - 12s 174ms/step - loss: 0.0038 - accuracy: 0.9993 - val_loss: 0.0095 - val_accuracy: 0.9973\n",
            "Epoch 39/50\n",
            "70/70 [==============================] - 12s 176ms/step - loss: 0.0160 - accuracy: 0.9962 - val_loss: 0.0601 - val_accuracy: 0.9893\n",
            "Epoch 40/50\n",
            "70/70 [==============================] - 12s 174ms/step - loss: 0.0249 - accuracy: 0.9926 - val_loss: 0.0297 - val_accuracy: 0.9848\n",
            "Epoch 41/50\n",
            "70/70 [==============================] - 12s 170ms/step - loss: 0.0073 - accuracy: 0.9978 - val_loss: 0.0019 - val_accuracy: 0.9991\n",
            "Epoch 42/50\n",
            "70/70 [==============================] - 12s 173ms/step - loss: 0.0021 - accuracy: 0.9993 - val_loss: 7.0460e-04 - val_accuracy: 1.0000\n",
            "Epoch 43/50\n",
            "70/70 [==============================] - 12s 168ms/step - loss: 8.6777e-04 - accuracy: 1.0000 - val_loss: 0.0072 - val_accuracy: 0.9982\n",
            "Epoch 44/50\n",
            "70/70 [==============================] - 17s 245ms/step - loss: 8.2736e-04 - accuracy: 0.9998 - val_loss: 2.6591e-04 - val_accuracy: 1.0000\n",
            "Epoch 45/50\n",
            "70/70 [==============================] - 21s 302ms/step - loss: 2.6107e-04 - accuracy: 1.0000 - val_loss: 2.3229e-04 - val_accuracy: 1.0000\n",
            "Epoch 46/50\n",
            "70/70 [==============================] - 15s 210ms/step - loss: 4.2935e-04 - accuracy: 1.0000 - val_loss: 2.2035e-04 - val_accuracy: 1.0000\n",
            "Epoch 47/50\n",
            "70/70 [==============================] - 16s 224ms/step - loss: 3.1059e-04 - accuracy: 1.0000 - val_loss: 2.1890e-04 - val_accuracy: 1.0000\n",
            "Epoch 48/50\n",
            "70/70 [==============================] - 12s 177ms/step - loss: 3.0372e-04 - accuracy: 1.0000 - val_loss: 2.3893e-04 - val_accuracy: 1.0000\n",
            "Epoch 49/50\n",
            "70/70 [==============================] - 12s 175ms/step - loss: 2.2932e-04 - accuracy: 1.0000 - val_loss: 9.8077e-05 - val_accuracy: 1.0000\n",
            "Epoch 50/50\n",
            "70/70 [==============================] - 12s 175ms/step - loss: 1.1716e-04 - accuracy: 1.0000 - val_loss: 8.9954e-05 - val_accuracy: 1.0000\n"
          ]
        }
      ]
    },
    {
      "cell_type": "code",
      "source": [
        "# Get the final training and validation accuracy\n",
        "final_train_accuracy = history.history['accuracy'][-1]\n",
        "final_val_accuracy = history.history['val_accuracy'][-1]\n",
        "\n",
        "# Print the final accuracy percentage\n",
        "print(f'Final Training Accuracy: {final_train_accuracy * 100:.2f}%')\n",
        "print(f'Final Validation Accuracy: {final_val_accuracy * 100:.2f}%')\n"
      ],
      "metadata": {
        "execution": {
          "iopub.status.busy": "2024-02-11T13:56:20.255101Z",
          "iopub.execute_input": "2024-02-11T13:56:20.256267Z",
          "iopub.status.idle": "2024-02-11T13:56:20.263727Z",
          "shell.execute_reply.started": "2024-02-11T13:56:20.256229Z",
          "shell.execute_reply": "2024-02-11T13:56:20.262565Z"
        },
        "trusted": true,
        "id": "V5G7Ic7-dSxY",
        "outputId": "bb4451b4-f035-4fe3-98c0-75e550cd6c04",
        "colab": {
          "base_uri": "https://localhost:8080/"
        }
      },
      "execution_count": 16,
      "outputs": [
        {
          "output_type": "stream",
          "name": "stdout",
          "text": [
            "Final Training Accuracy: 100.00%\n",
            "Final Validation Accuracy: 100.00%\n"
          ]
        }
      ]
    },
    {
      "cell_type": "code",
      "source": [
        "# Load the audio file and extract MFCC features\n",
        "audio_file_path = '/content/1001_IEO_DIS_MD.wav'\n",
        "mfcc_features = extract_mfcc(audio_file_path)  # Use the extract_mfcc function you defined earlier\n",
        "\n",
        "mfcc_features = np.expand_dims(mfcc_features, axis=0)  # Add batch dimension if necessary\n",
        "\n",
        "predictions = model.predict(mfcc_features)\n",
        "\n",
        "predicted_label_index = np.argmax(predictions)\n",
        "predicted_label = enc.categories_[0][predicted_label_index]\n",
        "\n",
        "print('Predicted label:', predicted_label)\n"
      ],
      "metadata": {
        "id": "0ZhCu0FkdSxY",
        "colab": {
          "base_uri": "https://localhost:8080/"
        },
        "outputId": "8ce815ab-ff0b-4894-f78c-e6fc1bd4943a"
      },
      "execution_count": 28,
      "outputs": [
        {
          "output_type": "stream",
          "name": "stdout",
          "text": [
            "1/1 [==============================] - 0s 222ms/step\n",
            "Predicted label: disgust\n"
          ]
        }
      ]
    },
    {
      "cell_type": "code",
      "source": [
        "epochs = list(range(50))\n",
        "acc = history.history['accuracy']\n",
        "val_acc = history.history['val_accuracy']\n",
        "\n",
        "plt.plot(epochs, acc, label='train accuracy')\n",
        "plt.plot(epochs, val_acc, label='val accuracy')\n",
        "plt.xlabel('epochs')\n",
        "plt.ylabel('accuracy')\n",
        "plt.legend()\n",
        "plt.show()"
      ],
      "metadata": {
        "execution": {
          "iopub.status.busy": "2024-02-11T13:46:31.696729Z",
          "iopub.execute_input": "2024-02-11T13:46:31.697147Z",
          "iopub.status.idle": "2024-02-11T13:46:31.910248Z",
          "shell.execute_reply.started": "2024-02-11T13:46:31.697115Z",
          "shell.execute_reply": "2024-02-11T13:46:31.909042Z"
        },
        "trusted": true,
        "id": "xt2KdYsXdSxY",
        "outputId": "7d898405-091a-4630-87d8-3e6d30ee842f"
      },
      "execution_count": null,
      "outputs": [
        {
          "output_type": "display_data",
          "data": {
            "text/plain": "<Figure size 640x480 with 1 Axes>",
            "image/png": "[encoded data removed]"
          },
          "metadata": {}
        }
      ]
    },
    {
      "cell_type": "code",
      "source": [
        "loss = history.history['loss']\n",
        "val_loss = history.history['val_loss']\n",
        "\n",
        "plt.plot(epochs, loss, label='train loss')\n",
        "plt.plot(epochs, val_loss, label='val loss')\n",
        "plt.xlabel('epochs')\n",
        "plt.ylabel('loss')\n",
        "plt.legend()\n",
        "plt.show()"
      ],
      "metadata": {
        "execution": {
          "iopub.status.busy": "2024-02-11T13:46:33.989453Z",
          "iopub.execute_input": "2024-02-11T13:46:33.990599Z",
          "iopub.status.idle": "2024-02-11T13:46:34.195035Z",
          "shell.execute_reply.started": "2024-02-11T13:46:33.990555Z",
          "shell.execute_reply": "2024-02-11T13:46:34.193597Z"
        },
        "trusted": true,
        "id": "W0LjndMudSxY",
        "outputId": "5f85f0ae-0efa-43d8-a467-0f9c69c6f530"
      },
      "execution_count": null,
      "outputs": [
        {
          "output_type": "display_data",
          "data": {
            "text/plain": "<Figure size 640x480 with 1 Axes>",
            "image/png": "[encoded data removed]"
          },
          "metadata": {}
        }
      ]
    },
    {
      "cell_type": "code",
      "source": [],
      "metadata": {
        "id": "qBm3ZhnQdSxY"
      },
      "execution_count": null,
      "outputs": []
    }
  ]
}