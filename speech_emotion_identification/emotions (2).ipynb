{
  "cells": [
    {
      "cell_type": "code",
      "execution_count": 1,
      "metadata": {
        "colab": {
          "base_uri": "https://localhost:8080/"
        },
        "id": "3iGdZdTtd-7N",
        "outputId": "51a4f09b-a950-456b-94f3-32393d1abbea"
      },
      "outputs": [
        {
          "name": "stdout",
          "output_type": "stream",
          "text": [
            "Mounted at /content/drive\n"
          ]
        }
      ],
      "source": [
        "from google.colab import drive\n",
        "drive.mount('/content/drive')"
      ]
    },
    {
      "cell_type": "code",
      "execution_count": 2,
      "metadata": {
        "colab": {
          "base_uri": "https://localhost:8080/"
        },
        "id": "srXXxHrkeJUF",
        "outputId": "701c54fd-e285-4f98-ff0a-fddea1be20a7"
      },
      "outputs": [
        {
          "name": "stdout",
          "output_type": "stream",
          "text": [
            "Requirement already satisfied: librosa in /usr/local/lib/python3.10/dist-packages (0.10.1)\n",
            "Requirement already satisfied: audioread>=2.1.9 in /usr/local/lib/python3.10/dist-packages (from librosa) (3.0.1)\n",
            "Requirement already satisfied: numpy!=1.22.0,!=1.22.1,!=1.22.2,>=1.20.3 in /usr/local/lib/python3.10/dist-packages (from librosa) (1.23.5)\n",
            "Requirement already satisfied: scipy>=1.2.0 in /usr/local/lib/python3.10/dist-packages (from librosa) (1.11.4)\n",
            "Requirement already satisfied: scikit-learn>=0.20.0 in /usr/local/lib/python3.10/dist-packages (from librosa) (1.2.2)\n",
            "Requirement already satisfied: joblib>=0.14 in /usr/local/lib/python3.10/dist-packages (from librosa) (1.3.2)\n",
            "Requirement already satisfied: decorator>=4.3.0 in /usr/local/lib/python3.10/dist-packages (from librosa) (4.4.2)\n",
            "Requirement already satisfied: numba>=0.51.0 in /usr/local/lib/python3.10/dist-packages (from librosa) (0.58.1)\n",
            "Requirement already satisfied: soundfile>=0.12.1 in /usr/local/lib/python3.10/dist-packages (from librosa) (0.12.1)\n",
            "Requirement already satisfied: pooch>=1.0 in /usr/local/lib/python3.10/dist-packages (from librosa) (1.8.0)\n",
            "Requirement already satisfied: soxr>=0.3.2 in /usr/local/lib/python3.10/dist-packages (from librosa) (0.3.7)\n",
            "Requirement already satisfied: typing-extensions>=4.1.1 in /usr/local/lib/python3.10/dist-packages (from librosa) (4.5.0)\n",
            "Requirement already satisfied: lazy-loader>=0.1 in /usr/local/lib/python3.10/dist-packages (from librosa) (0.3)\n",
            "Requirement already satisfied: msgpack>=1.0 in /usr/local/lib/python3.10/dist-packages (from librosa) (1.0.7)\n",
            "Requirement already satisfied: llvmlite<0.42,>=0.41.0dev0 in /usr/local/lib/python3.10/dist-packages (from numba>=0.51.0->librosa) (0.41.1)\n",
            "Requirement already satisfied: platformdirs>=2.5.0 in /usr/local/lib/python3.10/dist-packages (from pooch>=1.0->librosa) (4.1.0)\n",
            "Requirement already satisfied: packaging>=20.0 in /usr/local/lib/python3.10/dist-packages (from pooch>=1.0->librosa) (23.2)\n",
            "Requirement already satisfied: requests>=2.19.0 in /usr/local/lib/python3.10/dist-packages (from pooch>=1.0->librosa) (2.31.0)\n",
            "Requirement already satisfied: threadpoolctl>=2.0.0 in /usr/local/lib/python3.10/dist-packages (from scikit-learn>=0.20.0->librosa) (3.2.0)\n",
            "Requirement already satisfied: cffi>=1.0 in /usr/local/lib/python3.10/dist-packages (from soundfile>=0.12.1->librosa) (1.16.0)\n",
            "Requirement already satisfied: pycparser in /usr/local/lib/python3.10/dist-packages (from cffi>=1.0->soundfile>=0.12.1->librosa) (2.21)\n",
            "Requirement already satisfied: charset-normalizer<4,>=2 in /usr/local/lib/python3.10/dist-packages (from requests>=2.19.0->pooch>=1.0->librosa) (3.3.2)\n",
            "Requirement already satisfied: idna<4,>=2.5 in /usr/local/lib/python3.10/dist-packages (from requests>=2.19.0->pooch>=1.0->librosa) (3.6)\n",
            "Requirement already satisfied: urllib3<3,>=1.21.1 in /usr/local/lib/python3.10/dist-packages (from requests>=2.19.0->pooch>=1.0->librosa) (2.0.7)\n",
            "Requirement already satisfied: certifi>=2017.4.17 in /usr/local/lib/python3.10/dist-packages (from requests>=2.19.0->pooch>=1.0->librosa) (2023.11.17)\n"
          ]
        }
      ],
      "source": [
        "!pip install librosa"
      ]
    },
    {
      "cell_type": "code",
      "execution_count": 3,
      "metadata": {
        "colab": {
          "base_uri": "https://localhost:8080/"
        },
        "id": "KQg88TallTun",
        "outputId": "10de59af-8ad9-4d65-9512-862e22b517a6"
      },
      "outputs": [
        {
          "name": "stdout",
          "output_type": "stream",
          "text": [
            "Requirement already satisfied: soundfile in /usr/local/lib/python3.10/dist-packages (0.12.1)\n",
            "Requirement already satisfied: cffi>=1.0 in /usr/local/lib/python3.10/dist-packages (from soundfile) (1.16.0)\n",
            "Requirement already satisfied: pycparser in /usr/local/lib/python3.10/dist-packages (from cffi>=1.0->soundfile) (2.21)\n"
          ]
        }
      ],
      "source": [
        "!pip install soundfile\n"
      ]
    },
    {
      "cell_type": "code",
      "execution_count": 4,
      "metadata": {
        "id": "X08e3j0BeZhu"
      },
      "outputs": [],
      "source": [
        "import os\n",
        "import librosa\n",
        "import numpy as np\n",
        "\n"
      ]
    },
    {
      "cell_type": "code",
      "execution_count": 4,
      "metadata": {
        "id": "NqhaZNEBew4z"
      },
      "outputs": [],
      "source": []
    },
    {
      "cell_type": "code",
      "execution_count": 83,
      "metadata": {
        "colab": {
          "base_uri": "https://localhost:8080/"
        },
        "id": "07jyNdBNe7ri",
        "outputId": "f91a8417-8393-443d-d606-d61d622545d8"
      },
      "outputs": [
        {
          "name": "stdout",
          "output_type": "stream",
          "text": [
            "                                             file_path   emotion\n",
            "544  /content/drive/MyDrive/train_emotion/surprise/...  surprise\n",
            "545  /content/drive/MyDrive/train_emotion/surprise/...  surprise\n",
            "546  /content/drive/MyDrive/train_emotion/surprise/...  surprise\n",
            "547  /content/drive/MyDrive/train_emotion/surprise/...  surprise\n",
            "548  /content/drive/MyDrive/train_emotion/surprise/...  surprise\n",
            "549  /content/drive/MyDrive/train_emotion/surprise/...  surprise\n",
            "550  /content/drive/MyDrive/train_emotion/surprise/...  surprise\n",
            "551  /content/drive/MyDrive/train_emotion/surprise/...  surprise\n",
            "552  /content/drive/MyDrive/train_emotion/surprise/...  surprise\n",
            "553  /content/drive/MyDrive/train_emotion/surprise/...  surprise\n",
            "554  /content/drive/MyDrive/train_emotion/surprise/...  surprise\n",
            "555  /content/drive/MyDrive/train_emotion/surprise/...  surprise\n",
            "556  /content/drive/MyDrive/train_emotion/surprise/...  surprise\n",
            "557  /content/drive/MyDrive/train_emotion/surprise/...  surprise\n",
            "558  /content/drive/MyDrive/train_emotion/surprise/...  surprise\n",
            "559  /content/drive/MyDrive/train_emotion/surprise/...  surprise\n",
            "560  /content/drive/MyDrive/train_emotion/surprise/...  surprise\n",
            "561  /content/drive/MyDrive/train_emotion/surprise/...  surprise\n",
            "562  /content/drive/MyDrive/train_emotion/surprise/...  surprise\n",
            "563  /content/drive/MyDrive/train_emotion/surprise/...  surprise\n",
            "564  /content/drive/MyDrive/train_emotion/surprise/...  surprise\n",
            "565  /content/drive/MyDrive/train_emotion/surprise/...  surprise\n",
            "566  /content/drive/MyDrive/train_emotion/surprise/...  surprise\n",
            "567  /content/drive/MyDrive/train_emotion/surprise/...  surprise\n",
            "568  /content/drive/MyDrive/train_emotion/surprise/...  surprise\n",
            "569  /content/drive/MyDrive/train_emotion/surprise/...  surprise\n",
            "570  /content/drive/MyDrive/train_emotion/surprise/...  surprise\n",
            "571  /content/drive/MyDrive/train_emotion/surprise/...  surprise\n",
            "572  /content/drive/MyDrive/train_emotion/surprise/...  surprise\n",
            "573  /content/drive/MyDrive/train_emotion/surprise/...  surprise\n",
            "574  /content/drive/MyDrive/train_emotion/surprise/...  surprise\n",
            "575  /content/drive/MyDrive/train_emotion/surprise/...  surprise\n",
            "576  /content/drive/MyDrive/train_emotion/surprise/...  surprise\n",
            "577  /content/drive/MyDrive/train_emotion/surprise/...  surprise\n",
            "578  /content/drive/MyDrive/train_emotion/surprise/...  surprise\n",
            "579  /content/drive/MyDrive/train_emotion/surprise/...  surprise\n",
            "580  /content/drive/MyDrive/train_emotion/surprise/...  surprise\n",
            "581  /content/drive/MyDrive/train_emotion/surprise/...  surprise\n",
            "582  /content/drive/MyDrive/train_emotion/surprise/...  surprise\n",
            "583  /content/drive/MyDrive/train_emotion/surprise/...  surprise\n",
            "584  /content/drive/MyDrive/train_emotion/surprise/...  surprise\n",
            "585  /content/drive/MyDrive/train_emotion/surprise/...  surprise\n",
            "586  /content/drive/MyDrive/train_emotion/surprise/...  surprise\n",
            "587  /content/drive/MyDrive/train_emotion/surprise/...  surprise\n",
            "588  /content/drive/MyDrive/train_emotion/surprise/...  surprise\n",
            "589  /content/drive/MyDrive/train_emotion/surprise/...  surprise\n",
            "590  /content/drive/MyDrive/train_emotion/surprise/...  surprise\n",
            "591  /content/drive/MyDrive/train_emotion/surprise/...  surprise\n",
            "592  /content/drive/MyDrive/train_emotion/surprise/...  surprise\n",
            "593  /content/drive/MyDrive/train_emotion/surprise/...  surprise\n"
          ]
        }
      ],
      "source": [
        "import os\n",
        "import pandas as pd\n",
        "\n",
        "def read_emotion_dataset(dataset_folder):\n",
        "    data = {'file_path': [], 'emotion': []}\n",
        "\n",
        "    for emotion in os.listdir(dataset_folder):\n",
        "        emotion_folder = os.path.join(dataset_folder, emotion)\n",
        "\n",
        "        if os.path.isdir(emotion_folder):\n",
        "\n",
        "            for file_name in os.listdir(emotion_folder):\n",
        "                file_path = os.path.join(emotion_folder, file_name)\n",
        "\n",
        "                if os.path.isfile(file_path):\n",
        "\n",
        "                    data['file_path'].append(file_path)\n",
        "                    data['emotion'].append(emotion)\n",
        "\n",
        "    emotion_dataset = pd.DataFrame(data)\n",
        "    return emotion_dataset\n",
        "\n",
        "dataset_folder = \"/content/drive/MyDrive/train_emotion\"\n",
        "emotion_dataset = read_emotion_dataset(dataset_folder)\n",
        "\n",
        "print(emotion_dataset.tail(50))\n"
      ]
    },
    {
      "cell_type": "code",
      "execution_count": 6,
      "metadata": {
        "colab": {
          "base_uri": "https://localhost:8080/"
        },
        "id": "Pqw_nkYfoVUj",
        "outputId": "f59084e7-9ded-4939-ba61-a9777e306955"
      },
      "outputs": [
        {
          "name": "stdout",
          "output_type": "stream",
          "text": [
            "Requirement already satisfied: soundfile in /usr/local/lib/python3.10/dist-packages (0.12.1)\n",
            "Collecting sounddevice\n",
            "  Downloading sounddevice-0.4.6-py3-none-any.whl (31 kB)\n",
            "Requirement already satisfied: cffi>=1.0 in /usr/local/lib/python3.10/dist-packages (from soundfile) (1.16.0)\n",
            "Requirement already satisfied: pycparser in /usr/local/lib/python3.10/dist-packages (from cffi>=1.0->soundfile) (2.21)\n",
            "Installing collected packages: sounddevice\n",
            "Successfully installed sounddevice-0.4.6\n"
          ]
        }
      ],
      "source": [
        "!pip install soundfile sounddevice\n"
      ]
    },
    {
      "cell_type": "code",
      "execution_count": 84,
      "metadata": {
        "id": "2AB4psCcsOdL"
      },
      "outputs": [],
      "source": [
        "import pandas as pd\n",
        "from sklearn.model_selection import train_test_split\n",
        "from sklearn.preprocessing import LabelEncoder, StandardScaler\n",
        "from sklearn.neural_network import MLPClassifier\n",
        "from sklearn.metrics import accuracy_score\n",
        "emotion_df=emotion_dataset"
      ]
    },
    {
      "cell_type": "code",
      "execution_count": 23,
      "metadata": {
        "colab": {
          "base_uri": "https://localhost:8080/"
        },
        "id": "c2PgYOdbsbOy",
        "outputId": "4162dfee-f42f-4903-a3c2-158e55f098b2"
      },
      "outputs": [
        {
          "name": "stdout",
          "output_type": "stream",
          "text": [
            "Requirement already satisfied: librosa in /usr/local/lib/python3.10/dist-packages (0.10.1)\n",
            "Requirement already satisfied: audioread>=2.1.9 in /usr/local/lib/python3.10/dist-packages (from librosa) (3.0.1)\n",
            "Requirement already satisfied: numpy!=1.22.0,!=1.22.1,!=1.22.2,>=1.20.3 in /usr/local/lib/python3.10/dist-packages (from librosa) (1.23.5)\n",
            "Requirement already satisfied: scipy>=1.2.0 in /usr/local/lib/python3.10/dist-packages (from librosa) (1.11.4)\n",
            "Requirement already satisfied: scikit-learn>=0.20.0 in /usr/local/lib/python3.10/dist-packages (from librosa) (1.2.2)\n",
            "Requirement already satisfied: joblib>=0.14 in /usr/local/lib/python3.10/dist-packages (from librosa) (1.3.2)\n",
            "Requirement already satisfied: decorator>=4.3.0 in /usr/local/lib/python3.10/dist-packages (from librosa) (4.4.2)\n",
            "Requirement already satisfied: numba>=0.51.0 in /usr/local/lib/python3.10/dist-packages (from librosa) (0.58.1)\n",
            "Requirement already satisfied: soundfile>=0.12.1 in /usr/local/lib/python3.10/dist-packages (from librosa) (0.12.1)\n",
            "Requirement already satisfied: pooch>=1.0 in /usr/local/lib/python3.10/dist-packages (from librosa) (1.8.0)\n",
            "Requirement already satisfied: soxr>=0.3.2 in /usr/local/lib/python3.10/dist-packages (from librosa) (0.3.7)\n",
            "Requirement already satisfied: typing-extensions>=4.1.1 in /usr/local/lib/python3.10/dist-packages (from librosa) (4.5.0)\n",
            "Requirement already satisfied: lazy-loader>=0.1 in /usr/local/lib/python3.10/dist-packages (from librosa) (0.3)\n",
            "Requirement already satisfied: msgpack>=1.0 in /usr/local/lib/python3.10/dist-packages (from librosa) (1.0.7)\n",
            "Requirement already satisfied: llvmlite<0.42,>=0.41.0dev0 in /usr/local/lib/python3.10/dist-packages (from numba>=0.51.0->librosa) (0.41.1)\n",
            "Requirement already satisfied: platformdirs>=2.5.0 in /usr/local/lib/python3.10/dist-packages (from pooch>=1.0->librosa) (4.1.0)\n",
            "Requirement already satisfied: packaging>=20.0 in /usr/local/lib/python3.10/dist-packages (from pooch>=1.0->librosa) (23.2)\n",
            "Requirement already satisfied: requests>=2.19.0 in /usr/local/lib/python3.10/dist-packages (from pooch>=1.0->librosa) (2.31.0)\n",
            "Requirement already satisfied: threadpoolctl>=2.0.0 in /usr/local/lib/python3.10/dist-packages (from scikit-learn>=0.20.0->librosa) (3.2.0)\n",
            "Requirement already satisfied: cffi>=1.0 in /usr/local/lib/python3.10/dist-packages (from soundfile>=0.12.1->librosa) (1.16.0)\n",
            "Requirement already satisfied: pycparser in /usr/local/lib/python3.10/dist-packages (from cffi>=1.0->soundfile>=0.12.1->librosa) (2.21)\n",
            "Requirement already satisfied: charset-normalizer<4,>=2 in /usr/local/lib/python3.10/dist-packages (from requests>=2.19.0->pooch>=1.0->librosa) (3.3.2)\n",
            "Requirement already satisfied: idna<4,>=2.5 in /usr/local/lib/python3.10/dist-packages (from requests>=2.19.0->pooch>=1.0->librosa) (3.6)\n",
            "Requirement already satisfied: urllib3<3,>=1.21.1 in /usr/local/lib/python3.10/dist-packages (from requests>=2.19.0->pooch>=1.0->librosa) (2.0.7)\n",
            "Requirement already satisfied: certifi>=2017.4.17 in /usr/local/lib/python3.10/dist-packages (from requests>=2.19.0->pooch>=1.0->librosa) (2023.11.17)\n",
            "Requirement already satisfied: resampy in /usr/local/lib/python3.10/dist-packages (0.4.2)\n",
            "Requirement already satisfied: numpy>=1.17 in /usr/local/lib/python3.10/dist-packages (from resampy) (1.23.5)\n",
            "Requirement already satisfied: numba>=0.53 in /usr/local/lib/python3.10/dist-packages (from resampy) (0.58.1)\n",
            "Requirement already satisfied: llvmlite<0.42,>=0.41.0dev0 in /usr/local/lib/python3.10/dist-packages (from numba>=0.53->resampy) (0.41.1)\n"
          ]
        }
      ],
      "source": [
        "!pip install librosa\n",
        "!pip install resampy"
      ]
    },
    {
      "cell_type": "code",
      "execution_count": 27,
      "metadata": {
        "id": "DCGATj87hkD6"
      },
      "outputs": [],
      "source": [
        "import librosa\n",
        "import numpy as np\n",
        "from sklearn.preprocessing import LabelEncoder\n",
        "\n",
        "def extract_features(file_path):\n",
        "    audio, _ = librosa.load(file_path, sr=None)\n",
        "    mfccs = np.mean(librosa.feature.mfcc(y=audio, sr=_ , n_mfcc=13), axis=1)\n",
        "    return mfccs\n",
        "X = [extract_features(file_path) for file_path in emotion_df['file_path']]\n",
        "X = np.vstack(X)\n",
        "y = emotion_df['emotion']\n",
        "\n",
        "le = LabelEncoder()\n",
        "y = le.fit_transform(y)\n"
      ]
    },
    {
      "cell_type": "code",
      "execution_count": 85,
      "metadata": {
        "id": "kAEu4-UXhtAS"
      },
      "outputs": [],
      "source": [
        "X_train, X_test, y_train, y_test = train_test_split(X, y, test_size=0.33, random_state=42)\n",
        "le = LabelEncoder()\n",
        "y_train_encoded = le.fit_transform(y_train)"
      ]
    },
    {
      "cell_type": "code",
      "execution_count": 86,
      "metadata": {
        "colab": {
          "base_uri": "https://localhost:8080/"
        },
        "id": "dAjHJ-noki1w",
        "outputId": "00df3ed5-a0ae-47dc-fd88-d83f28d0f973"
      },
      "outputs": [
        {
          "name": "stdout",
          "output_type": "stream",
          "text": [
            "(397, 13)\n",
            "(397,)\n",
            "(197, 13)\n",
            "(197,)\n"
          ]
        }
      ],
      "source": [
        "print(X_train.shape)\n",
        "print(y_train.shape)\n",
        "print(X_test.shape)\n",
        "print(y_test.shape)"
      ]
    },
    {
      "cell_type": "code",
      "execution_count": 87,
      "metadata": {
        "id": "oM3RjYkaktBt"
      },
      "outputs": [],
      "source": [
        "scaler = StandardScaler()\n",
        "X_train = scaler.fit_transform(X_train)\n",
        "X_test = scaler.transform(X_test)\n"
      ]
    },
    {
      "cell_type": "code",
      "execution_count": 88,
      "metadata": {
        "colab": {
          "base_uri": "https://localhost:8080/",
          "height": 129
        },
        "id": "J3EkYQSrk3EZ",
        "outputId": "96a60a17-1944-4c89-f439-4cb92c22468f"
      },
      "outputs": [
        {
          "name": "stderr",
          "output_type": "stream",
          "text": [
            "/usr/local/lib/python3.10/dist-packages/sklearn/neural_network/_multilayer_perceptron.py:686: ConvergenceWarning: Stochastic Optimizer: Maximum iterations (300) reached and the optimization hasn't converged yet.\n",
            "  warnings.warn(\n"
          ]
        },
        {
          "data": {
            "text/html": [
              "<style>#sk-container-id-2 {color: black;background-color: white;}#sk-container-id-2 pre{padding: 0;}#sk-container-id-2 div.sk-toggleable {background-color: white;}#sk-container-id-2 label.sk-toggleable__label {cursor: pointer;display: block;width: 100%;margin-bottom: 0;padding: 0.3em;box-sizing: border-box;text-align: center;}#sk-container-id-2 label.sk-toggleable__label-arrow:before {content: \"▸\";float: left;margin-right: 0.25em;color: #696969;}#sk-container-id-2 label.sk-toggleable__label-arrow:hover:before {color: black;}#sk-container-id-2 div.sk-estimator:hover label.sk-toggleable__label-arrow:before {color: black;}#sk-container-id-2 div.sk-toggleable__content {max-height: 0;max-width: 0;overflow: hidden;text-align: left;background-color: #f0f8ff;}#sk-container-id-2 div.sk-toggleable__content pre {margin: 0.2em;color: black;border-radius: 0.25em;background-color: #f0f8ff;}#sk-container-id-2 input.sk-toggleable__control:checked~div.sk-toggleable__content {max-height: 200px;max-width: 100%;overflow: auto;}#sk-container-id-2 input.sk-toggleable__control:checked~label.sk-toggleable__label-arrow:before {content: \"▾\";}#sk-container-id-2 div.sk-estimator input.sk-toggleable__control:checked~label.sk-toggleable__label {background-color: #d4ebff;}#sk-container-id-2 div.sk-label input.sk-toggleable__control:checked~label.sk-toggleable__label {background-color: #d4ebff;}#sk-container-id-2 input.sk-hidden--visually {border: 0;clip: rect(1px 1px 1px 1px);clip: rect(1px, 1px, 1px, 1px);height: 1px;margin: -1px;overflow: hidden;padding: 0;position: absolute;width: 1px;}#sk-container-id-2 div.sk-estimator {font-family: monospace;background-color: #f0f8ff;border: 1px dotted black;border-radius: 0.25em;box-sizing: border-box;margin-bottom: 0.5em;}#sk-container-id-2 div.sk-estimator:hover {background-color: #d4ebff;}#sk-container-id-2 div.sk-parallel-item::after {content: \"\";width: 100%;border-bottom: 1px solid gray;flex-grow: 1;}#sk-container-id-2 div.sk-label:hover label.sk-toggleable__label {background-color: #d4ebff;}#sk-container-id-2 div.sk-serial::before {content: \"\";position: absolute;border-left: 1px solid gray;box-sizing: border-box;top: 0;bottom: 0;left: 50%;z-index: 0;}#sk-container-id-2 div.sk-serial {display: flex;flex-direction: column;align-items: center;background-color: white;padding-right: 0.2em;padding-left: 0.2em;position: relative;}#sk-container-id-2 div.sk-item {position: relative;z-index: 1;}#sk-container-id-2 div.sk-parallel {display: flex;align-items: stretch;justify-content: center;background-color: white;position: relative;}#sk-container-id-2 div.sk-item::before, #sk-container-id-2 div.sk-parallel-item::before {content: \"\";position: absolute;border-left: 1px solid gray;box-sizing: border-box;top: 0;bottom: 0;left: 50%;z-index: -1;}#sk-container-id-2 div.sk-parallel-item {display: flex;flex-direction: column;z-index: 1;position: relative;background-color: white;}#sk-container-id-2 div.sk-parallel-item:first-child::after {align-self: flex-end;width: 50%;}#sk-container-id-2 div.sk-parallel-item:last-child::after {align-self: flex-start;width: 50%;}#sk-container-id-2 div.sk-parallel-item:only-child::after {width: 0;}#sk-container-id-2 div.sk-dashed-wrapped {border: 1px dashed gray;margin: 0 0.4em 0.5em 0.4em;box-sizing: border-box;padding-bottom: 0.4em;background-color: white;}#sk-container-id-2 div.sk-label label {font-family: monospace;font-weight: bold;display: inline-block;line-height: 1.2em;}#sk-container-id-2 div.sk-label-container {text-align: center;}#sk-container-id-2 div.sk-container {/* jupyter's `normalize.less` sets `[hidden] { display: none; }` but bootstrap.min.css set `[hidden] { display: none !important; }` so we also need the `!important` here to be able to override the default hidden behavior on the sphinx rendered scikit-learn.org. See: https://github.com/scikit-learn/scikit-learn/issues/21755 */display: inline-block !important;position: relative;}#sk-container-id-2 div.sk-text-repr-fallback {display: none;}</style><div id=\"sk-container-id-2\" class=\"sk-top-container\"><div class=\"sk-text-repr-fallback\"><pre>MLPClassifier(max_iter=300, random_state=42)</pre><b>In a Jupyter environment, please rerun this cell to show the HTML representation or trust the notebook. <br />On GitHub, the HTML representation is unable to render, please try loading this page with nbviewer.org.</b></div><div class=\"sk-container\" hidden><div class=\"sk-item\"><div class=\"sk-estimator sk-toggleable\"><input class=\"sk-toggleable__control sk-hidden--visually\" id=\"sk-estimator-id-2\" type=\"checkbox\" checked><label for=\"sk-estimator-id-2\" class=\"sk-toggleable__label sk-toggleable__label-arrow\">MLPClassifier</label><div class=\"sk-toggleable__content\"><pre>MLPClassifier(max_iter=300, random_state=42)</pre></div></div></div></div></div>"
            ],
            "text/plain": [
              "MLPClassifier(max_iter=300, random_state=42)"
            ]
          },
          "execution_count": 88,
          "metadata": {},
          "output_type": "execute_result"
        }
      ],
      "source": [
        "mlp = MLPClassifier(hidden_layer_sizes=(100,), max_iter=300, random_state=42)\n",
        "mlp.fit(X_train, y_train)\n"
      ]
    },
    {
      "cell_type": "code",
      "execution_count": 89,
      "metadata": {
        "colab": {
          "base_uri": "https://localhost:8080/"
        },
        "id": "y-ZSWWvbk4w8",
        "outputId": "350e8da0-10d8-4490-fba0-979378bc7846"
      },
      "outputs": [
        {
          "name": "stdout",
          "output_type": "stream",
          "text": [
            "Accuracy: 98.48%\n"
          ]
        }
      ],
      "source": [
        "y_pred = mlp.predict(X_test)\n",
        "accuracy = accuracy_score(y_test, y_pred)\n",
        "print(f\"Accuracy: {accuracy*100:.2f}%\")\n"
      ]
    },
    {
      "cell_type": "code",
      "execution_count": 90,
      "metadata": {
        "id": "g4MDPUGek7ND"
      },
      "outputs": [],
      "source": [
        "import pickle\n",
        "train_test_data = {\n",
        "    'X_train': X_train,\n",
        "    'X_test': X_test,\n",
        "    'y_train': y_train,\n",
        "    'y_test': y_test\n",
        "}\n",
        "\n",
        "# Save the data to a pickle file\n",
        "with open('train_test_data.pkl', 'wb') as file:\n",
        "    pickle.dump(train_test_data, file)\n",
        "with open('your_label_encoder_file.pkl', 'wb') as label_encoder_file:\n",
        "    pickle.dump(le, label_encoder_file)\n"
      ]
    },
    {
      "cell_type": "code",
      "execution_count": 101,
      "metadata": {
        "colab": {
          "base_uri": "https://localhost:8080/"
        },
        "id": "WUNKaqskrLwA",
        "outputId": "2422cdec-4555-43a4-f672-8c59419c9b4d"
      },
      "outputs": [
        {
          "name": "stdout",
          "output_type": "stream",
          "text": [
            "Keys in the dictionary: dict_keys(['X_train', 'X_test', 'y_train', 'y_test'])\n"
          ]
        }
      ],
      "source": [
        "print(\"Keys in the dictionary:\", model_dict.keys())"
      ]
    },
    {
      "cell_type": "code",
      "execution_count": 112,
      "metadata": {
        "colab": {
          "base_uri": "https://localhost:8080/"
        },
        "id": "I4c92BXt3OVj",
        "outputId": "cbb6761c-6a0b-42f3-ced7-8ce777df7f6a"
      },
      "outputs": [
        {
          "name": "stdout",
          "output_type": "stream",
          "text": [
            "Epoch 1/20\n",
            "7/7 [==============================] - 3s 84ms/step - loss: 1.2797 - accuracy: 0.5181 - val_loss: 90.3651 - val_accuracy: 0.1899\n",
            "Epoch 2/20\n",
            "7/7 [==============================] - 0s 26ms/step - loss: 0.6187 - accuracy: 0.7807 - val_loss: 80.5978 - val_accuracy: 0.1899\n",
            "Epoch 3/20\n",
            "7/7 [==============================] - 0s 22ms/step - loss: 0.4267 - accuracy: 0.8627 - val_loss: 67.8536 - val_accuracy: 0.1899\n",
            "Epoch 4/20\n",
            "7/7 [==============================] - 0s 26ms/step - loss: 0.3284 - accuracy: 0.8964 - val_loss: 55.6400 - val_accuracy: 0.1899\n",
            "Epoch 5/20\n",
            "7/7 [==============================] - 0s 24ms/step - loss: 0.2528 - accuracy: 0.9036 - val_loss: 43.8348 - val_accuracy: 0.1899\n",
            "Epoch 6/20\n",
            "7/7 [==============================] - 0s 26ms/step - loss: 0.2696 - accuracy: 0.8867 - val_loss: 36.0425 - val_accuracy: 0.1899\n",
            "Epoch 7/20\n",
            "7/7 [==============================] - 0s 27ms/step - loss: 0.2131 - accuracy: 0.9277 - val_loss: 30.6230 - val_accuracy: 0.1899\n",
            "Epoch 8/20\n",
            "7/7 [==============================] - 0s 22ms/step - loss: 0.2181 - accuracy: 0.9325 - val_loss: 23.0973 - val_accuracy: 0.1899\n",
            "Epoch 9/20\n",
            "7/7 [==============================] - 0s 29ms/step - loss: 0.1973 - accuracy: 0.9398 - val_loss: 16.9494 - val_accuracy: 0.1899\n",
            "Epoch 10/20\n",
            "7/7 [==============================] - 0s 25ms/step - loss: 0.2102 - accuracy: 0.9373 - val_loss: 11.3917 - val_accuracy: 0.2067\n",
            "Epoch 11/20\n",
            "7/7 [==============================] - 0s 28ms/step - loss: 0.1973 - accuracy: 0.9277 - val_loss: 7.8419 - val_accuracy: 0.3184\n",
            "Epoch 12/20\n",
            "7/7 [==============================] - 0s 22ms/step - loss: 0.1782 - accuracy: 0.9398 - val_loss: 7.4376 - val_accuracy: 0.3911\n",
            "Epoch 13/20\n",
            "7/7 [==============================] - 0s 20ms/step - loss: 0.1302 - accuracy: 0.9590 - val_loss: 7.0282 - val_accuracy: 0.3966\n",
            "Epoch 14/20\n",
            "7/7 [==============================] - 0s 20ms/step - loss: 0.1149 - accuracy: 0.9663 - val_loss: 4.8243 - val_accuracy: 0.4022\n",
            "Epoch 15/20\n",
            "7/7 [==============================] - 0s 20ms/step - loss: 0.1304 - accuracy: 0.9494 - val_loss: 2.5780 - val_accuracy: 0.5363\n",
            "Epoch 16/20\n",
            "7/7 [==============================] - 0s 22ms/step - loss: 0.1075 - accuracy: 0.9566 - val_loss: 1.8911 - val_accuracy: 0.6592\n",
            "Epoch 17/20\n",
            "7/7 [==============================] - 0s 21ms/step - loss: 0.1028 - accuracy: 0.9687 - val_loss: 1.6125 - val_accuracy: 0.7318\n",
            "Epoch 18/20\n",
            "7/7 [==============================] - 0s 21ms/step - loss: 0.0828 - accuracy: 0.9614 - val_loss: 1.3699 - val_accuracy: 0.7654\n",
            "Epoch 19/20\n",
            "7/7 [==============================] - 0s 23ms/step - loss: 0.1126 - accuracy: 0.9639 - val_loss: 1.1603 - val_accuracy: 0.7821\n",
            "Epoch 20/20\n",
            "7/7 [==============================] - 0s 23ms/step - loss: 0.0907 - accuracy: 0.9735 - val_loss: 0.8695 - val_accuracy: 0.8156\n",
            "6/6 [==============================] - 0s 6ms/step - loss: 0.8695 - accuracy: 0.8156\n",
            "Test accuracy: 0.8156424760818481\n"
          ]
        },
        {
          "name": "stderr",
          "output_type": "stream",
          "text": [
            "/usr/local/lib/python3.10/dist-packages/keras/src/engine/training.py:3103: UserWarning: You are saving your model as an HDF5 file via `model.save()`. This file format is considered legacy. We recommend using instead the native Keras format, e.g. `model.save('my_model.keras')`.\n",
            "  saving_api.save_model(\n"
          ]
        },
        {
          "data": {
            "text/plain": [
              "['label_encoder.pkl']"
            ]
          },
          "execution_count": 112,
          "metadata": {},
          "output_type": "execute_result"
        }
      ],
      "source": [
        "import os\n",
        "import joblib\n",
        "import librosa\n",
        "import numpy as np\n",
        "from sklearn.model_selection import train_test_split\n",
        "from sklearn.preprocessing import LabelEncoder\n",
        "from tensorflow.keras.models import Sequential\n",
        "from tensorflow.keras.layers import Conv2D, MaxPooling2D, Flatten, Dense, Dropout\n",
        "\n",
        "def extract_features(file_path):\n",
        "    audio, sr = librosa.load(file_path, sr=None)\n",
        "    mfccs = np.mean(librosa.feature.mfcc(y=audio, sr=sr, n_mfcc=13), axis=1)\n",
        "    return mfccs\n",
        "\n",
        "dataset_path = '/content/drive/MyDrive/train_emotion'\n",
        "\n",
        "X = []\n",
        "y = []\n",
        "emotion_folders = ['anger', 'sad', 'fear', 'disgust', 'surprise']\n",
        "\n",
        "for emotion_folder in emotion_folders:\n",
        "    emotion_path = os.path.join(dataset_path, emotion_folder)\n",
        "    for audio_file in os.listdir(emotion_path):\n",
        "        audio_path = os.path.join(emotion_path, audio_file)\n",
        "        features = extract_features(audio_path)\n",
        "        X.append(features)\n",
        "        y.append(emotion_folder)\n",
        "\n",
        "X = np.vstack(X)\n",
        "y = np.array(y)\n",
        "\n",
        "le = LabelEncoder()\n",
        "y_encoded = le.fit_transform(y)\n",
        "\n",
        "\n",
        "X_train, X_test, y_train, y_test = train_test_split(X, y_encoded, test_size=0.3, random_state=42)\n",
        "\n",
        "X_train = X_train.reshape(X_train.shape[0], -1)\n",
        "X_test = X_test.reshape(X_test.shape[0], -1)\n",
        "\n",
        "import numpy as np\n",
        "from tensorflow.keras.models import Sequential\n",
        "from tensorflow.keras.layers import Dense, Dropout, BatchNormalization\n",
        "\n",
        "model = Sequential()\n",
        "model.add(Dense(512, activation='relu', input_shape=(X_train.shape[1],)))\n",
        "model.add(BatchNormalization())\n",
        "model.add(Dropout(0.5))\n",
        "model.add(Dense(256, activation='relu'))\n",
        "model.add(BatchNormalization())\n",
        "model.add(Dropout(0.5))\n",
        "model.add(Dense(len(emotion_folders), activation='softmax'))\n",
        "\n",
        "model.compile(optimizer='adam', loss='sparse_categorical_crossentropy', metrics=['accuracy'])\n",
        "\n",
        "model.fit(X_train, y_train, epochs=20, batch_size=64, validation_data=(X_test, y_test))\n",
        "\n",
        "\n",
        "\n",
        "test_loss, test_acc = model.evaluate(X_test, y_test)\n",
        "print(f'Test accuracy: {test_acc}')\n",
        "\n",
        "model.save('emotion_model.h5')\n",
        "joblib.dump(le, 'label_encoder.pkl')\n"
      ]
    },
    {
      "cell_type": "code",
      "execution_count": 116,
      "metadata": {
        "colab": {
          "base_uri": "https://localhost:8080/"
        },
        "id": "7DKcWPPv4lZa",
        "outputId": "59f531bc-c7e8-4f2d-822b-bf9323035311"
      },
      "outputs": [
        {
          "name": "stderr",
          "output_type": "stream",
          "text": [
            "<ipython-input-112-ad2c136afbe1>:12: UserWarning: PySoundFile failed. Trying audioread instead.\n",
            "  audio, sr = librosa.load(file_path, sr=None)\n",
            "/usr/local/lib/python3.10/dist-packages/librosa/core/audio.py:183: FutureWarning: librosa.core.audio.__audioread_load\n",
            "\tDeprecated as of librosa version 0.10.0.\n",
            "\tIt will be removed in librosa version 1.0.\n",
            "  y, sr_native = __audioread_load(path, offset, duration, dtype)\n"
          ]
        },
        {
          "name": "stdout",
          "output_type": "stream",
          "text": [
            "1/1 [==============================] - 0s 287ms/step\n",
            "Predicted Emotion: sad\n"
          ]
        }
      ],
      "source": [
        "\n",
        "import tensorflow as tf\n",
        "loaded_model = tf.keras.models.load_model('emotion_model.h5')\n",
        "loaded_le = joblib.load('label_encoder.pkl')\n",
        "\n",
        "new_audio_file_path = '/content/mummy.m4a'\n",
        "\n",
        "new_features = extract_features(new_audio_file_path)\n",
        "\n",
        "new_features = new_features.reshape(1, new_features.shape[0], 1)\n",
        "\n",
        "predictions = loaded_model.predict(new_features)\n",
        "predicted_label = loaded_le.inverse_transform([np.argmax(predictions)])\n",
        "\n",
        "print(f'Predicted Emotion: {predicted_label[0]}')\n"
      ]
    },
    {
      "cell_type": "code",
      "execution_count": null,
      "metadata": {
        "id": "VyQc-4CW7_CB"
      },
      "outputs": [],
      "source": []
    }
  ],
  "metadata": {
    "colab": {
      "provenance": []
    },
    "kernelspec": {
      "display_name": "Python 3",
      "name": "python3"
    },
    "language_info": {
      "name": "python"
    }
  },
  "nbformat": 4,
  "nbformat_minor": 0
}
